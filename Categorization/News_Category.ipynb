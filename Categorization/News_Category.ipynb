{
  "cells": [
    {
      "cell_type": "code",
      "execution_count": 6,
      "metadata": {
        "colab": {
          "base_uri": "https://localhost:8080/"
        },
        "id": "D9yRFdKC7eLW",
        "outputId": "07414981-7485-48d7-bd97-9a2362d2c9e6"
      },
      "outputs": [
        {
          "name": "stdout",
          "output_type": "stream",
          "text": [
            "Looking in indexes: https://pypi.org/simple, https://us-python.pkg.dev/colab-wheels/public/simple/\n",
            "Requirement already satisfied: pyspark in /usr/local/lib/python3.10/dist-packages (3.4.0)\n",
            "Requirement already satisfied: py4j==0.10.9.7 in /usr/local/lib/python3.10/dist-packages (from pyspark) (0.10.9.7)\n"
          ]
        }
      ],
      "source": [
        "!pip install pyspark\n"
      ]
    },
    {
      "cell_type": "code",
      "execution_count": 7,
      "metadata": {
        "id": "eYrc_kAy7oVg"
      },
      "outputs": [],
      "source": [
        "import pyspark\n",
        "import pandas as pd\n",
        "import tensorflow as tf\n",
        "from google.colab import files\n",
        "\n",
        "\n",
        "from pyspark.sql import SparkSession\n",
        "\n",
        "from pyspark import SparkContext"
      ]
    },
    {
      "cell_type": "code",
      "execution_count": 8,
      "metadata": {
        "id": "_xyz6cXE7oYd"
      },
      "outputs": [],
      "source": [
        "import warnings\n",
        "warnings.filterwarnings('ignore')"
      ]
    },
    {
      "cell_type": "code",
      "execution_count": 9,
      "metadata": {
        "colab": {
          "base_uri": "https://localhost:8080/"
        },
        "id": "GRQNa6P77oaz",
        "outputId": "8b84204d-c97e-4f2b-f28d-e65af184d56f"
      },
      "outputs": [
        {
          "name": "stdout",
          "output_type": "stream",
          "text": [
            "Drive already mounted at /content/drive; to attempt to forcibly remount, call drive.mount(\"/content/drive\", force_remount=True).\n"
          ]
        }
      ],
      "source": [
        "from google.colab import drive\n",
        "drive.mount('/content/drive')"
      ]
    },
    {
      "cell_type": "code",
      "execution_count": 10,
      "metadata": {
        "id": "EHsnSQuU7odM"
      },
      "outputs": [],
      "source": [
        "spark_context_sc = SparkContext(master='local[3]')\n",
        "spark_session = SparkSession.builder.appName(\"Categorizer\").getOrCreate()"
      ]
    },
    {
      "cell_type": "code",
      "execution_count": 11,
      "metadata": {
        "colab": {
          "base_uri": "https://localhost:8080/"
        },
        "id": "zFvRYvce7ofr",
        "outputId": "f4993f34-117f-4244-ead8-25cdfef62e96"
      },
      "outputs": [
        {
          "data": {
            "text/plain": [
              "Row(authors='Melissa Jeltsen', category='CRIME', date='2018-05-26', headline='There Were 2 Mass Shootings In Texas Last Week, But Only 1 On TV', link='https://www.huffingtonpost.com/entry/texas-amanda-painter-mass-shooting_us_5b081ab4e4b0802d69caad89', short_description='She left her husband. He killed their children. Just another day in America.')"
            ]
          },
          "execution_count": 11,
          "metadata": {},
          "output_type": "execute_result"
        }
      ],
      "source": [
        "df = spark_session.read.json(\"CategorizedNews.json\")\n",
        "df.head()"
      ]
    },
    {
      "cell_type": "code",
      "execution_count": 12,
      "metadata": {
        "id": "mB95gE_m7ohl"
      },
      "outputs": [],
      "source": [
        "df.count()\n",
        "df = df.limit(10000)\n"
      ]
    },
    {
      "cell_type": "code",
      "execution_count": 13,
      "metadata": {
        "colab": {
          "base_uri": "https://localhost:8080/"
        },
        "id": "1tQxHLBH7x0u",
        "outputId": "16f27902-77f4-4efa-c8b1-c04a362cd069"
      },
      "outputs": [
        {
          "name": "stdout",
          "output_type": "stream",
          "text": [
            "+-------------+-----+\n",
            "|     category|count|\n",
            "+-------------+-----+\n",
            "|     POLITICS| 3604|\n",
            "|ENTERTAINMENT| 1906|\n",
            "|   WORLD NEWS|  683|\n",
            "| QUEER VOICES|  512|\n",
            "|       COMEDY|  495|\n",
            "| BLACK VOICES|  443|\n",
            "|       SPORTS|  382|\n",
            "|        MEDIA|  329|\n",
            "|        WOMEN|  283|\n",
            "|   WEIRD NEWS|  242|\n",
            "|        CRIME|  201|\n",
            "|     BUSINESS|  112|\n",
            "|LATINO VOICES|  105|\n",
            "|       IMPACT|   86|\n",
            "|       TRAVEL|   76|\n",
            "|     RELIGION|   76|\n",
            "|        STYLE|   70|\n",
            "|      PARENTS|   66|\n",
            "|        GREEN|   66|\n",
            "|         TECH|   65|\n",
            "+-------------+-----+\n",
            "only showing top 20 rows\n",
            "\n"
          ]
        }
      ],
      "source": [
        "df.groupby('category').count().sort('count', ascending=False).show()\n"
      ]
    },
    {
      "cell_type": "code",
      "execution_count": 14,
      "metadata": {
        "id": "eyeiC08X7x3b"
      },
      "outputs": [],
      "source": [
        "\n",
        "from pyspark.sql import functions as fun\n",
        "df = df.withColumn('description', fun.concat(fun.col('headline'),fun.lit(' '), fun.col('short_description')))"
      ]
    },
    {
      "cell_type": "code",
      "execution_count": 15,
      "metadata": {
        "colab": {
          "base_uri": "https://localhost:8080/"
        },
        "id": "f4Ua14-57x5k",
        "outputId": "47d514f4-ec7c-4829-fa16-300ce2042c6a"
      },
      "outputs": [
        {
          "name": "stdout",
          "output_type": "stream",
          "text": [
            "+-------------+--------------------+\n",
            "|     category|         description|\n",
            "+-------------+--------------------+\n",
            "|        CRIME|There Were 2 Mass...|\n",
            "|ENTERTAINMENT|Will Smith Joins ...|\n",
            "|ENTERTAINMENT|Hugh Grant Marrie...|\n",
            "|ENTERTAINMENT|Jim Carrey Blasts...|\n",
            "|ENTERTAINMENT|Julianna Margulie...|\n",
            "|ENTERTAINMENT|Morgan Freeman 'D...|\n",
            "|ENTERTAINMENT|Donald Trump Is L...|\n",
            "|ENTERTAINMENT|What To Watch On ...|\n",
            "|ENTERTAINMENT|Mike Myers Reveal...|\n",
            "|ENTERTAINMENT|What To Watch On ...|\n",
            "|ENTERTAINMENT|Justin Timberlake...|\n",
            "|   WORLD NEWS|South Korean Pres...|\n",
            "|       IMPACT|With Its Way Of L...|\n",
            "|     POLITICS|Trump's Crackdown...|\n",
            "|     POLITICS|'Trump's Son Shou...|\n",
            "|     POLITICS|Edward Snowden: T...|\n",
            "|     POLITICS|Booyah: Obama Pho...|\n",
            "|     POLITICS|Ireland Votes To ...|\n",
            "|     POLITICS|Ryan Zinke Looks ...|\n",
            "|     POLITICS|Trump's Scottish ...|\n",
            "+-------------+--------------------+\n",
            "only showing top 20 rows\n",
            "\n"
          ]
        }
      ],
      "source": [
        "\n",
        "df = df.drop(\"headline\", \"link\", \"authors\", \"short_description\", \"date\")\n",
        "df.show()"
      ]
    },
    {
      "cell_type": "code",
      "execution_count": 16,
      "metadata": {
        "id": "kSk2CThJ7x7-"
      },
      "outputs": [],
      "source": [
        "\n",
        "from pyspark.ml.feature import IDF\n",
        "from pyspark.ml.feature import CountVectorizer\n",
        "from pyspark.ml.feature import StringIndexer\n",
        "from pyspark.ml.feature import Tokenizer\n",
        "from pyspark.ml.feature import StopWordsRemover\n",
        "\n"
      ]
    },
    {
      "cell_type": "code",
      "execution_count": 17,
      "metadata": {
        "id": "ijswJkaF7x-T"
      },
      "outputs": [],
      "source": [
        "import pyspark.sql.functions as check\n",
        "\n",
        "df = df.where(check.col('description').isNotNull())"
      ]
    },
    {
      "cell_type": "code",
      "execution_count": 18,
      "metadata": {
        "id": "k-0cGziF8CaY"
      },
      "outputs": [],
      "source": [
        "token_create = Tokenizer(inputCol='description',outputCol='tokens')\n",
        "stopwordRemove = StopWordsRemover(inputCol='tokens',outputCol='removed_stopwords')\n",
        "vector_create = CountVectorizer(inputCol='removed_stopwords',outputCol='extracted_features')\n",
        "idf = IDF(inputCol='extracted_features',outputCol='vectorizedFeatures')"
      ]
    },
    {
      "cell_type": "code",
      "execution_count": 19,
      "metadata": {
        "colab": {
          "base_uri": "https://localhost:8080/"
        },
        "id": "ciDd1c0s8CdO",
        "outputId": "b289d661-01bc-41ee-b24c-46ea6900ee43"
      },
      "outputs": [
        {
          "name": "stdout",
          "output_type": "stream",
          "text": [
            "+-------------+--------------------+---------------+\n",
            "|     category|         description|category_number|\n",
            "+-------------+--------------------+---------------+\n",
            "|        CRIME|There Were 2 Mass...|           10.0|\n",
            "|ENTERTAINMENT|Will Smith Joins ...|            1.0|\n",
            "|ENTERTAINMENT|Hugh Grant Marrie...|            1.0|\n",
            "|ENTERTAINMENT|Jim Carrey Blasts...|            1.0|\n",
            "|ENTERTAINMENT|Julianna Margulie...|            1.0|\n",
            "|ENTERTAINMENT|Morgan Freeman 'D...|            1.0|\n",
            "|ENTERTAINMENT|Donald Trump Is L...|            1.0|\n",
            "|ENTERTAINMENT|What To Watch On ...|            1.0|\n",
            "|ENTERTAINMENT|Mike Myers Reveal...|            1.0|\n",
            "|ENTERTAINMENT|What To Watch On ...|            1.0|\n",
            "+-------------+--------------------+---------------+\n",
            "only showing top 10 rows\n",
            "\n"
          ]
        }
      ],
      "source": [
        "label_encoding = StringIndexer(inputCol='category',outputCol='category_number').fit(df)\n",
        "label_encoding.transform(df).show(10)"
      ]
    },
    {
      "cell_type": "code",
      "execution_count": 20,
      "metadata": {
        "id": "I6-btYDS8Cfj"
      },
      "outputs": [],
      "source": [
        "\n",
        "# Assume label_encoding is your StringIndexer object\n",
        "transformed_df = label_encoding.transform(df)\n",
        "\n",
        "# Get unique categories\n",
        "unique_categories = transformed_df.select('category_number', 'category').distinct().collect()\n",
        "#name = transformed_df.select('category').distinct().collect()"
      ]
    },
    {
      "cell_type": "code",
      "execution_count": 21,
      "metadata": {
        "colab": {
          "base_uri": "https://localhost:8080/"
        },
        "id": "LwYlPZ_K8CiK",
        "outputId": "318a6ae2-e242-4f69-9568-b3322098df35"
      },
      "outputs": [
        {
          "name": "stdout",
          "output_type": "stream",
          "text": [
            "Category Number 10.0  Category Name CRIME\n",
            "Category Number 1.0  Category Name ENTERTAINMENT\n",
            "Category Number 2.0  Category Name WORLD NEWS\n",
            "Category Number 13.0  Category Name IMPACT\n",
            "Category Number 0.0  Category Name POLITICS\n",
            "Category Number 9.0  Category Name WEIRD NEWS\n",
            "Category Number 5.0  Category Name BLACK VOICES\n",
            "Category Number 8.0  Category Name WOMEN\n",
            "Category Number 4.0  Category Name COMEDY\n",
            "Category Number 3.0  Category Name QUEER VOICES\n",
            "Category Number 6.0  Category Name SPORTS\n",
            "Category Number 11.0  Category Name BUSINESS\n",
            "Category Number 15.0  Category Name TRAVEL\n",
            "Category Number 7.0  Category Name MEDIA\n",
            "Category Number 19.0  Category Name TECH\n",
            "Category Number 14.0  Category Name RELIGION\n",
            "Category Number 21.0  Category Name SCIENCE\n",
            "Category Number 12.0  Category Name LATINO VOICES\n",
            "Category Number 22.0  Category Name EDUCATION\n",
            "Category Number 25.0  Category Name COLLEGE\n",
            "Category Number 18.0  Category Name PARENTS\n",
            "Category Number 24.0  Category Name ARTS & CULTURE\n",
            "Category Number 16.0  Category Name STYLE\n",
            "Category Number 17.0  Category Name GREEN\n",
            "Category Number 23.0  Category Name TASTE\n",
            "Category Number 20.0  Category Name HEALTHY LIVING\n"
          ]
        }
      ],
      "source": [
        "# Print the unique categories\n",
        "for row in unique_categories:\n",
        "    print(\"Category Number\", row.category_number, \" Category Name\", row.category)\n"
      ]
    },
    {
      "cell_type": "code",
      "execution_count": 22,
      "metadata": {
        "colab": {
          "base_uri": "https://localhost:8080/"
        },
        "id": "WOGMh-eu8Cki",
        "outputId": "dda6e763-513e-4f0f-8619-390539a45671"
      },
      "outputs": [
        {
          "data": {
            "text/plain": [
              "['POLITICS',\n",
              " 'ENTERTAINMENT',\n",
              " 'WORLD NEWS',\n",
              " 'QUEER VOICES',\n",
              " 'COMEDY',\n",
              " 'BLACK VOICES',\n",
              " 'SPORTS',\n",
              " 'MEDIA',\n",
              " 'WOMEN',\n",
              " 'WEIRD NEWS',\n",
              " 'CRIME',\n",
              " 'BUSINESS',\n",
              " 'LATINO VOICES',\n",
              " 'IMPACT',\n",
              " 'RELIGION',\n",
              " 'TRAVEL',\n",
              " 'STYLE',\n",
              " 'GREEN',\n",
              " 'PARENTS',\n",
              " 'TECH',\n",
              " 'HEALTHY LIVING',\n",
              " 'SCIENCE',\n",
              " 'EDUCATION',\n",
              " 'TASTE',\n",
              " 'ARTS & CULTURE',\n",
              " 'COLLEGE']"
            ]
          },
          "execution_count": 22,
          "metadata": {},
          "output_type": "execute_result"
        }
      ],
      "source": [
        "label_encoding.labels\n"
      ]
    },
    {
      "cell_type": "code",
      "execution_count": 23,
      "metadata": {
        "id": "EXoFk7gR8Cm2"
      },
      "outputs": [],
      "source": [
        "label_dict = {\n",
        "    0.0: 'POLITICS',\n",
        "    1.0: 'ENTERTAINMENT',\n",
        "    2.0: 'WORLD NEWS',\n",
        "    3.0: 'QUEER VOICES',\n",
        "    4.0: 'COMEDY',\n",
        "    5.0: 'BLACK VOICES',\n",
        "    6.0: 'SPORTS',\n",
        "    13.0: 'MEDIA',\n",
        "    8.0: 'WOMEN',\n",
        "    10.0: 'CRIME',\n",
        "    11.0: 'BUSINESS',\n",
        "    12.0: 'LATINO VOICES',\n",
        "    13.0: 'IMPACT',\n",
        "    14.0: 'RELIGION',\n",
        "    15.0: 'TRAVEL',\n",
        "    16.0: 'STYLE',\n",
        "    18.0: 'PARENTS',\n",
        "    19.0: 'TECH',\n",
        "    20.0: 'HEALTHY LIVING',\n",
        "    22.0: 'EDUCATION',\n",
        "    23.0: 'TASTE',\n",
        "    25.0: 'COLLEGE',\n",
        "    17.0: 'GREEN',\n",
        "    9.0: 'WEIRD NEWS',\n",
        "    24.0: 'ARTS $ CULTURE',\n",
        "    21.0: 'SCIENCE',\n",
        "    7.0: 'MEDIA'\n",
        "}\n"
      ]
    },
    {
      "cell_type": "code",
      "execution_count": 24,
      "metadata": {
        "colab": {
          "base_uri": "https://localhost:8080/"
        },
        "id": "jaJzxlF-8Cpd",
        "outputId": "8931f25d-adec-4093-edf2-b1dd7afb9bdd"
      },
      "outputs": [
        {
          "name": "stdout",
          "output_type": "stream",
          "text": [
            "+-------------+--------------------+---------------+\n",
            "|     category|         description|category_number|\n",
            "+-------------+--------------------+---------------+\n",
            "|        CRIME|There Were 2 Mass...|           10.0|\n",
            "|ENTERTAINMENT|Will Smith Joins ...|            1.0|\n",
            "|ENTERTAINMENT|Hugh Grant Marrie...|            1.0|\n",
            "|ENTERTAINMENT|Jim Carrey Blasts...|            1.0|\n",
            "|ENTERTAINMENT|Julianna Margulie...|            1.0|\n",
            "|ENTERTAINMENT|Morgan Freeman 'D...|            1.0|\n",
            "|ENTERTAINMENT|Donald Trump Is L...|            1.0|\n",
            "|ENTERTAINMENT|What To Watch On ...|            1.0|\n",
            "|ENTERTAINMENT|Mike Myers Reveal...|            1.0|\n",
            "|ENTERTAINMENT|What To Watch On ...|            1.0|\n",
            "|ENTERTAINMENT|Justin Timberlake...|            1.0|\n",
            "|   WORLD NEWS|South Korean Pres...|            2.0|\n",
            "|       IMPACT|With Its Way Of L...|           13.0|\n",
            "|     POLITICS|Trump's Crackdown...|            0.0|\n",
            "|     POLITICS|'Trump's Son Shou...|            0.0|\n",
            "|     POLITICS|Edward Snowden: T...|            0.0|\n",
            "|     POLITICS|Booyah: Obama Pho...|            0.0|\n",
            "|     POLITICS|Ireland Votes To ...|            0.0|\n",
            "|     POLITICS|Ryan Zinke Looks ...|            0.0|\n",
            "|     POLITICS|Trump's Scottish ...|            0.0|\n",
            "|   WEIRD NEWS|Weird Father's Da...|            9.0|\n",
            "|ENTERTAINMENT|Twitter #PutStarW...|            1.0|\n",
            "|   WEIRD NEWS|Mystery 'Wolf-Lik...|            9.0|\n",
            "|   WORLD NEWS|North Korea Still...|            2.0|\n",
            "|   WORLD NEWS|2 Men Detonate Bo...|            2.0|\n",
            "|   WORLD NEWS|Thousands Travel ...|            2.0|\n",
            "|   WORLD NEWS|Irish Voters Set ...|            2.0|\n",
            "| BLACK VOICES|Warriors Coach St...|            5.0|\n",
            "| BLACK VOICES|In Historic Victo...|            5.0|\n",
            "| BLACK VOICES|Police Killed At ...|            5.0|\n",
            "|     POLITICS|Jack Johnson Was ...|            0.0|\n",
            "| BLACK VOICES|BET Chairman and ...|            5.0|\n",
            "|        CRIME|Rachel Dolezal Fa...|           10.0|\n",
            "|     POLITICS|Bishop Michael Cu...|            0.0|\n",
            "|ENTERTAINMENT|Kanye West Spent ...|            1.0|\n",
            "|        WOMEN|Morgan Freeman Dr...|            8.0|\n",
            "|     POLITICS|How The Chinese E...|            0.0|\n",
            "|       COMEDY|Trump's New 'MAGA...|            4.0|\n",
            "|       COMEDY|Seth Meyers Has 1...|            4.0|\n",
            "|       COMEDY|Colbert Wants To ...|            4.0|\n",
            "|        CRIME|Man Faces Charges...|           10.0|\n",
            "|       COMEDY|Jimmy Kimmel Know...|            4.0|\n",
            "|        CRIME|2 People Injured ...|           10.0|\n",
            "|ENTERTAINMENT|People Are Rattle...|            1.0|\n",
            "|ENTERTAINMENT|David Cross Prove...|            1.0|\n",
            "|ENTERTAINMENT|'Sesame Street' C...|            1.0|\n",
            "|ENTERTAINMENT|What You Missed A...|            1.0|\n",
            "|ENTERTAINMENT|George Takei Accu...|            1.0|\n",
            "|ENTERTAINMENT|Samantha Bee's Pa...|            1.0|\n",
            "|ENTERTAINMENT|Pete Davidson Say...|            1.0|\n",
            "|ENTERTAINMENT|James Corden And ...|            1.0|\n",
            "|ENTERTAINMENT|Emilia Clarke Dis...|            1.0|\n",
            "|ENTERTAINMENT|Hollywood Doesn't...|            1.0|\n",
            "|ENTERTAINMENT|Harvey Weinstein ...|            1.0|\n",
            "|ENTERTAINMENT|Harvey Weinstein ...|            1.0|\n",
            "|ENTERTAINMENT|John Mayer's Weir...|            1.0|\n",
            "|ENTERTAINMENT|Now Boba Fett Is ...|            1.0|\n",
            "|   WORLD NEWS|Trump Suggests No...|            2.0|\n",
            "|     POLITICS|Roger Stone Press...|            0.0|\n",
            "|     POLITICS|Publix Suspends C...|            0.0|\n",
            "|     POLITICS|Twitter Bots May ...|            0.0|\n",
            "|   WEIRD NEWS|A Bag Of Wet Sock...|            9.0|\n",
            "|     POLITICS|A Member Of The F...|            0.0|\n",
            "|     POLITICS|All The Things Th...|            0.0|\n",
            "|     POLITICS|Here's What Happe...|            0.0|\n",
            "|     POLITICS|Trump's New Execu...|            0.0|\n",
            "|       IMPACT|Monsanto And Baye...|           13.0|\n",
            "|        WOMEN|The Joy Of Watchi...|            8.0|\n",
            "|        WOMEN|The 20 Funniest T...|            8.0|\n",
            "| QUEER VOICES|'Queer Eye' Star ...|            3.0|\n",
            "| QUEER VOICES|Older Gay Men Try...|            3.0|\n",
            "| QUEER VOICES|How 'RuPaul’s Dra...|            3.0|\n",
            "|   WEIRD NEWS|Fish Market Buys ...|            9.0|\n",
            "|   WORLD NEWS|North Korea Threa...|            2.0|\n",
            "|   WORLD NEWS|Investigation Fin...|            2.0|\n",
            "|   WORLD NEWS|North Korea Demol...|            2.0|\n",
            "|   WORLD NEWS|How Kim Jong Un ‘...|            2.0|\n",
            "|     POLITICS|Michelle Obama Re...|            0.0|\n",
            "|       COMEDY|'Late Night' Writ...|            4.0|\n",
            "|        WOMEN|Morgan Freeman Ac...|            8.0|\n",
            "|       SPORTS|Jets Chairman Chr...|            6.0|\n",
            "|ENTERTAINMENT|Andy Cohen And Ta...|            1.0|\n",
            "|ENTERTAINMENT|'Infinity War' Wr...|            1.0|\n",
            "|ENTERTAINMENT|David Blaine Chew...|            1.0|\n",
            "|ENTERTAINMENT|Amy Poehler: A 'P...|            1.0|\n",
            "|       COMEDY|Colbert Exposes T...|            4.0|\n",
            "|       COMEDY|Seth Meyers Gives...|            4.0|\n",
            "|     BUSINESS|U.S. Launches Aut...|           11.0|\n",
            "| BLACK VOICES|This Women Pulled...|            5.0|\n",
            "| BLACK VOICES|Wife Asked Husban...|            5.0|\n",
            "|     POLITICS|Trump Roasted For...|            0.0|\n",
            "|     POLITICS|Trump Abruptly Ca...|            0.0|\n",
            "|     POLITICS|Devin Nunes-Linke...|            0.0|\n",
            "|     POLITICS|Immigrant Childre...|            0.0|\n",
            "|     POLITICS|Ireland's Histori...|            0.0|\n",
            "|     POLITICS|Trump Lawyer Atte...|            0.0|\n",
            "|     POLITICS|Senate Advances C...|            0.0|\n",
            "|     POLITICS|Rudy Giuliani: Tr...|            0.0|\n",
            "|     POLITICS|Kentucky Attorney...|            0.0|\n",
            "|     POLITICS|Chrissy Teigen Ta...|            0.0|\n",
            "+-------------+--------------------+---------------+\n",
            "only showing top 100 rows\n",
            "\n"
          ]
        }
      ],
      "source": [
        "\n",
        "df = label_encoding.transform(df)\n",
        "df.show(100)"
      ]
    },
    {
      "cell_type": "code",
      "execution_count": 25,
      "metadata": {
        "id": "oh5ETzZv8NRq"
      },
      "outputs": [],
      "source": [
        "from pyspark.sql.functions import rand\n",
        "\n",
        "df = df.orderBy(rand(seed=21))\n",
        "train_df = df.limit(int(df.count() * 0.70))\n",
        "test_df = df.exceptAll(train_df)"
      ]
    },
    {
      "cell_type": "code",
      "execution_count": 26,
      "metadata": {
        "id": "_ybh-uA38NUL"
      },
      "outputs": [],
      "source": [
        "from pyspark.ml.classification import LogisticRegression\n",
        "logistic_reg = LogisticRegression(featuresCol='vectorizedFeatures',labelCol='category_number')\n"
      ]
    },
    {
      "cell_type": "code",
      "execution_count": 27,
      "metadata": {
        "id": "Hr47gQmh8NWX"
      },
      "outputs": [],
      "source": [
        "from pyspark.ml import Pipeline\n",
        "cat_pipeline = Pipeline(stages = [token_create, stopwordRemove, vector_create,idf,logistic_reg])\n"
      ]
    },
    {
      "cell_type": "code",
      "execution_count": 28,
      "metadata": {
        "colab": {
          "base_uri": "https://localhost:8080/"
        },
        "id": "lmetAud28NYs",
        "outputId": "1ce64015-2e71-4dcf-e9fb-c9f834318624"
      },
      "outputs": [
        {
          "data": {
            "text/plain": [
              "Param(parent='Pipeline_0ba8f7b8e63b', name='stages', doc='a list of pipeline stages')"
            ]
          },
          "execution_count": 28,
          "metadata": {},
          "output_type": "execute_result"
        }
      ],
      "source": [
        "cat_pipeline.stages\n"
      ]
    },
    {
      "cell_type": "code",
      "execution_count": 29,
      "metadata": {
        "id": "R6MBxNSi8NbW"
      },
      "outputs": [],
      "source": [
        "logistic_model = cat_pipeline.fit(train_df)"
      ]
    },
    {
      "cell_type": "code",
      "execution_count": 30,
      "metadata": {
        "id": "YhwJQ4l_8Nd7"
      },
      "outputs": [],
      "source": [
        "logistic_model\n",
        "preds = logistic_model.transform(test_df)"
      ]
    },
    {
      "cell_type": "code",
      "execution_count": 31,
      "metadata": {
        "colab": {
          "base_uri": "https://localhost:8080/"
        },
        "id": "DQNRHX2K8Ngo",
        "outputId": "b00468bd-0f83-4c71-dfaa-d38e806d1f74"
      },
      "outputs": [
        {
          "data": {
            "text/plain": [
              "['category',\n",
              " 'description',\n",
              " 'category_number',\n",
              " 'tokens',\n",
              " 'removed_stopwords',\n",
              " 'extracted_features',\n",
              " 'vectorizedFeatures',\n",
              " 'rawPrediction',\n",
              " 'probability',\n",
              " 'prediction']"
            ]
          },
          "execution_count": 31,
          "metadata": {},
          "output_type": "execute_result"
        }
      ],
      "source": [
        "preds.columns\n"
      ]
    },
    {
      "cell_type": "code",
      "execution_count": 32,
      "metadata": {
        "colab": {
          "base_uri": "https://localhost:8080/"
        },
        "id": "mDVlmMlb8Ni3",
        "outputId": "76dd57c1-348b-4225-8a7d-ac6b931ad41f"
      },
      "outputs": [
        {
          "name": "stdout",
          "output_type": "stream",
          "text": [
            "+--------------------+--------------------+--------------------+-------------+---------------+----------+\n",
            "|         description|       rawPrediction|         probability|     category|category_number|prediction|\n",
            "+--------------------+--------------------+--------------------+-------------+---------------+----------+\n",
            "|Trump Claims With...|[8.35310736422872...|[0.36156315470111...|     POLITICS|            0.0|       1.0|\n",
            "|94 Percent Of Hol...|[-0.5695281958545...|[0.00163890651875...|ENTERTAINMENT|            1.0|       1.0|\n",
            "|Trump Threatens A...|[11.1176599704702...|[0.11389348926235...|   WORLD NEWS|            2.0|       2.0|\n",
            "|This Ex-NFL Playe...|[1.93307018838857...|[0.01901316292647...|       SPORTS|            6.0|       1.0|\n",
            "|Black Parkland St...|[5.80949539195597...|[0.13252920793733...| BLACK VOICES|            5.0|       5.0|\n",
            "|Laura Ingraham An...|[-5.3165958182414...|[2.12902949132581...|        MEDIA|            7.0|       7.0|\n",
            "|A Generation Of H...|[8.87330457160014...|[0.27381377002198...|   WORLD NEWS|            2.0|       2.0|\n",
            "|NYPD Releases 911...|[-5.1000984735193...|[1.10239404774393...|        CRIME|           10.0|       5.0|\n",
            "|Kid Reads LGBTQ C...|[5.72684889343201...|[0.31128473888262...| QUEER VOICES|            3.0|       3.0|\n",
            "|Chrissy Teigen, J...|[-7.8875175826877...|[9.14643607300728...|ENTERTAINMENT|            1.0|       1.0|\n",
            "+--------------------+--------------------+--------------------+-------------+---------------+----------+\n",
            "only showing top 10 rows\n",
            "\n"
          ]
        }
      ],
      "source": [
        "preds.select('description','rawPrediction', 'probability','category','category_number','prediction').show(10)\n"
      ]
    },
    {
      "cell_type": "code",
      "execution_count": 33,
      "metadata": {
        "colab": {
          "base_uri": "https://localhost:8080/"
        },
        "id": "YPAmHy3-8btY",
        "outputId": "92699313-7926-4047-e79d-2040596fe29b"
      },
      "outputs": [
        {
          "data": {
            "text/plain": [
              "59.93828170582442"
            ]
          },
          "execution_count": 33,
          "metadata": {},
          "output_type": "execute_result"
        }
      ],
      "source": [
        "from pyspark.ml.evaluation import MulticlassClassificationEvaluator\n",
        "evaluator = MulticlassClassificationEvaluator(predictionCol='prediction',labelCol='category_number')\n",
        "evaluator.evaluate(preds)*100\n"
      ]
    },
    {
      "cell_type": "code",
      "execution_count": 34,
      "metadata": {
        "id": "WXu32SkI8bv-"
      },
      "outputs": [],
      "source": [
        "from pyspark.mllib.evaluation import MulticlassMetrics\n",
        "logistic_reg_metric = MulticlassMetrics(preds['category_number','prediction'].rdd)"
      ]
    },
    {
      "cell_type": "code",
      "execution_count": 35,
      "metadata": {
        "colab": {
          "base_uri": "https://localhost:8080/"
        },
        "id": "nzNFfzDp8byU",
        "outputId": "aed8e734-8952-47cd-b602-79aff02f37da"
      },
      "outputs": [
        {
          "name": "stdout",
          "output_type": "stream",
          "text": [
            "Accuracy  0.628\n",
            "precision  0.7455516014234875\n",
            "f1Score  0.6736334405144694\n",
            "recall  0.6143695014662757\n"
          ]
        }
      ],
      "source": [
        "print(\"Accuracy \", logistic_reg_metric.accuracy)\n",
        "print(\"precision \", logistic_reg_metric.precision(1.0))\n",
        "print(\"f1Score \", logistic_reg_metric.fMeasure(1.0))\n",
        "print(\"recall \", logistic_reg_metric.recall(1.0))\n"
      ]
    },
    {
      "cell_type": "code",
      "execution_count": 3,
      "metadata": {
        "id": "hO2MonDA8b0t"
      },
      "outputs": [],
      "source": [
        "file_path = \"/content/drive/MyDrive/dataset.csv\""
      ]
    },
    {
      "cell_type": "code",
      "execution_count": 4,
      "metadata": {
        "colab": {
          "base_uri": "https://localhost:8080/"
        },
        "id": "tTTz3xZOP7kG",
        "outputId": "8d83f28d-dba8-44ce-d97f-04a09d735e7f"
      },
      "outputs": [
        {
          "name": "stderr",
          "output_type": "stream",
          "text": [
            "<ipython-input-4-fa8af45e8ce6>:2: DtypeWarning: Columns (13) have mixed types. Specify dtype option on import or set low_memory=False.\n",
            "  df10 = pd.read_csv(file_path)\n"
          ]
        }
      ],
      "source": [
        "import pandas as pd\n",
        "df10 = pd.read_csv(file_path)"
      ]
    },
    {
      "cell_type": "code",
      "execution_count": 37,
      "metadata": {
        "colab": {
          "base_uri": "https://localhost:8080/"
        },
        "id": "MlDXQ9h38b3Q",
        "outputId": "84102eb6-9c1e-475c-f797-aba3896b909c"
      },
      "outputs": [
        {
          "name": "stdout",
          "output_type": "stream",
          "text": [
            "+----+-------------------+--------------------+--------------------+--------------------+--------+-----------------+-----------------+--------------------+-------+--------+-----------+--------+--------+-------+--------------------+--------------------+----------+----------+--------------------+-----------+\n",
            "| _c0|                _c1|                 _c2|                 _c3|                 _c4|     _c5|              _c6|              _c7|                 _c8|    _c9|    _c10|       _c11|    _c12|    _c13|   _c14|                _c15|                _c16|      _c17|      _c18|                _c19|       _c20|\n",
            "+----+-------------------+--------------------+--------------------+--------------------+--------+-----------------+-----------------+--------------------+-------+--------+-----------+--------+--------+-------+--------------------+--------------------+----------+----------+--------------------+-----------+\n",
            "|null|     published_time|                 url|               title|           image_url|LangCode|         doc_tone|DomainCountryCode|            location|    Lat|     Lon|CountryCode|Adm1Code|Adm2Code|GeoType|     contextual_text|            GeoCoord|row_number|state_code|              source|   category|\n",
            "|   0|2022-11-30 03:30:00|https://www.npr.o...|Twitter COVID mis...|https://media.npr...|     eng|-5.71108622620381|               US|Yeshiva Universit...| 40.852|-73.9285|         US|    USNY|   NY061|      3|virus stay folks ...|POINT(-73.9285 40...|         1|        NY|gdelt-bq.covid19....|placeholder|\n",
            "|   1|2022-11-29 15:15:00|https://bismarckt...|City - led initia...|https://bloximage...|     eng|-1.50442477876106|               US|Bismarck, North D...|46.8083|-100.784|         US|    USND|   ND015|      3|to services benef...|POINT(-100.784 46...|         1|        ND|gdelt-bq.covid19....|placeholder|\n",
            "|   2|2022-11-08 06:30:00|https://mancheste...|Applications avai...|https://mancheste...|     eng| 2.01612903225806|               US|New Hampshire, Un...|43.4108|-71.5653|         US|    USNH|    null|      2|picking up or hav...|POINT(-71.5653 43...|         1|        NH|gdelt-bq.covid19....|placeholder|\n",
            "|   3|2022-11-02 12:15:00|https://chippewa....|UW - Stout resear...|https://bloximage...|     eng|0.631578947368421|               US|Eau Claire, Wisco...|44.8113|-91.4985|         US|    USWI|   WI035|      3|hadnt previously ...|POINT(-91.4985 44...|         1|        WI|gdelt-bq.covid19....|placeholder|\n",
            "+----+-------------------+--------------------+--------------------+--------------------+--------+-----------------+-----------------+--------------------+-------+--------+-----------+--------+--------+-------+--------------------+--------------------+----------+----------+--------------------+-----------+\n",
            "only showing top 5 rows\n",
            "\n"
          ]
        }
      ],
      "source": [
        "df2 = spark_session.read.csv(file_path)\n",
        "df2.show(5)"
      ]
    },
    {
      "cell_type": "code",
      "execution_count": 38,
      "metadata": {
        "id": "MYYn-vyK8b5m"
      },
      "outputs": [],
      "source": [
        "df2 = spark_session.read.option(\"header\", \"true\").csv(file_path)"
      ]
    },
    {
      "cell_type": "code",
      "execution_count": 39,
      "metadata": {
        "id": "4T7VwEvn8b7-"
      },
      "outputs": [],
      "source": [
        "df2 = df2.withColumnRenamed(\"_c0\", \"number\")"
      ]
    },
    {
      "cell_type": "code",
      "execution_count": 40,
      "metadata": {
        "colab": {
          "base_uri": "https://localhost:8080/"
        },
        "id": "E6dSg_e28b-T",
        "outputId": "dc3687ff-e129-45e8-cce8-df730fd638ab"
      },
      "outputs": [
        {
          "name": "stdout",
          "output_type": "stream",
          "text": [
            "+------+-------------------+--------------------+--------------------+--------------------+--------+-----------------+-----------------+--------------------+-------+--------+-----------+--------+--------+-------+--------------------+--------------------+----------+----------+--------------------+-----------+\n",
            "|number|     published_time|                 url|               title|           image_url|LangCode|         doc_tone|DomainCountryCode|            location|    Lat|     Lon|CountryCode|Adm1Code|Adm2Code|GeoType|     contextual_text|            GeoCoord|row_number|state_code|              source|   category|\n",
            "+------+-------------------+--------------------+--------------------+--------------------+--------+-----------------+-----------------+--------------------+-------+--------+-----------+--------+--------+-------+--------------------+--------------------+----------+----------+--------------------+-----------+\n",
            "|     0|2022-11-30 03:30:00|https://www.npr.o...|Twitter COVID mis...|https://media.npr...|     eng|-5.71108622620381|               US|Yeshiva Universit...| 40.852|-73.9285|         US|    USNY|   NY061|      3|virus stay folks ...|POINT(-73.9285 40...|         1|        NY|gdelt-bq.covid19....|placeholder|\n",
            "|     1|2022-11-29 15:15:00|https://bismarckt...|City - led initia...|https://bloximage...|     eng|-1.50442477876106|               US|Bismarck, North D...|46.8083|-100.784|         US|    USND|   ND015|      3|to services benef...|POINT(-100.784 46...|         1|        ND|gdelt-bq.covid19....|placeholder|\n",
            "|     2|2022-11-08 06:30:00|https://mancheste...|Applications avai...|https://mancheste...|     eng| 2.01612903225806|               US|New Hampshire, Un...|43.4108|-71.5653|         US|    USNH|    null|      2|picking up or hav...|POINT(-71.5653 43...|         1|        NH|gdelt-bq.covid19....|placeholder|\n",
            "|     3|2022-11-02 12:15:00|https://chippewa....|UW - Stout resear...|https://bloximage...|     eng|0.631578947368421|               US|Eau Claire, Wisco...|44.8113|-91.4985|         US|    USWI|   WI035|      3|hadnt previously ...|POINT(-91.4985 44...|         1|        WI|gdelt-bq.covid19....|placeholder|\n",
            "|     4|2022-11-23 15:00:00|https://www.daily...|Voice of the Peop...|https://bloximage...|     eng|-2.83505154639175|               US|Kankakee, Illinoi...|  41.12|-87.8612|         US|    USIL|   IL091|      3|violence mostly b...|POINT(-87.8612 41...|         1|        IL|gdelt-bq.covid19....|placeholder|\n",
            "+------+-------------------+--------------------+--------------------+--------------------+--------+-----------------+-----------------+--------------------+-------+--------+-----------+--------+--------+-------+--------------------+--------------------+----------+----------+--------------------+-----------+\n",
            "only showing top 5 rows\n",
            "\n"
          ]
        }
      ],
      "source": [
        "df2.show(5)"
      ]
    },
    {
      "cell_type": "code",
      "execution_count": 41,
      "metadata": {
        "colab": {
          "base_uri": "https://localhost:8080/"
        },
        "id": "M6SnmgP48cA6",
        "outputId": "08ea128a-62e3-4006-817d-f63e4c91cf6b"
      },
      "outputs": [
        {
          "data": {
            "text/plain": [
              "2877831"
            ]
          },
          "execution_count": 41,
          "metadata": {},
          "output_type": "execute_result"
        }
      ],
      "source": [
        "df2.count()"
      ]
    },
    {
      "cell_type": "code",
      "execution_count": 42,
      "metadata": {
        "id": "8TFSaIcOLfVz"
      },
      "outputs": [],
      "source": [
        "df2 = df2.fillna('null')\n"
      ]
    },
    {
      "cell_type": "code",
      "execution_count": 43,
      "metadata": {
        "id": "reUC4AHh8vLG"
      },
      "outputs": [],
      "source": [
        "from pyspark.sql import functions as sf2\n",
        "df2 = df2.withColumn('description', sf2.concat(sf2.col('title'),sf2.lit(' '), sf2.col('contextual_text')))"
      ]
    },
    {
      "cell_type": "code",
      "execution_count": 44,
      "metadata": {
        "colab": {
          "base_uri": "https://localhost:8080/"
        },
        "id": "D2QlVofC8vM2",
        "outputId": "d02948fd-d047-4a65-9d0f-fbef0824d867"
      },
      "outputs": [
        {
          "name": "stdout",
          "output_type": "stream",
          "text": [
            "+--------------------+-----------+\n",
            "|         description|   category|\n",
            "+--------------------+-----------+\n",
            "|Twitter COVID mis...|placeholder|\n",
            "|City - led initia...|placeholder|\n",
            "|Applications avai...|placeholder|\n",
            "|UW - Stout resear...|placeholder|\n",
            "|Voice of the Peop...|placeholder|\n",
            "+--------------------+-----------+\n",
            "only showing top 5 rows\n",
            "\n"
          ]
        }
      ],
      "source": [
        "df2 = df2.select(\"description\",\"category\")\n",
        "df2.show(5)"
      ]
    },
    {
      "cell_type": "code",
      "execution_count": 45,
      "metadata": {
        "id": "gcW9PRNt8vPL"
      },
      "outputs": [],
      "source": [
        "prediction_data = logistic_model.transform(df2)"
      ]
    },
    {
      "cell_type": "code",
      "execution_count": 46,
      "metadata": {
        "colab": {
          "base_uri": "https://localhost:8080/"
        },
        "id": "cls4SOOP8vRj",
        "outputId": "5c4ab328-1d97-4690-adf7-8bb4b8cf6595"
      },
      "outputs": [
        {
          "data": {
            "text/plain": [
              "['description',\n",
              " 'category',\n",
              " 'tokens',\n",
              " 'removed_stopwords',\n",
              " 'extracted_features',\n",
              " 'vectorizedFeatures',\n",
              " 'rawPrediction',\n",
              " 'probability',\n",
              " 'prediction']"
            ]
          },
          "execution_count": 46,
          "metadata": {},
          "output_type": "execute_result"
        }
      ],
      "source": [
        "prediction_data.columns\n"
      ]
    },
    {
      "cell_type": "code",
      "execution_count": 47,
      "metadata": {
        "colab": {
          "base_uri": "https://localhost:8080/"
        },
        "id": "Z4JVQM4R8vT4",
        "outputId": "a2a093dd-6d59-4864-b234-f1db7d13cbf7"
      },
      "outputs": [
        {
          "name": "stdout",
          "output_type": "stream",
          "text": [
            "+--------------------+--------------------+--------------------+-----------+----------+\n",
            "|         description|       rawPrediction|         probability|   category|prediction|\n",
            "+--------------------+--------------------+--------------------+-----------+----------+\n",
            "|Twitter COVID mis...|[-2.9183719094745...|[2.04954554534184...|placeholder|       8.0|\n",
            "|City - led initia...|[7.16448183226753...|[0.62146821826662...|placeholder|       0.0|\n",
            "|Applications avai...|[25.9974741266751...|[0.99999999820699...|placeholder|       0.0|\n",
            "|UW - Stout resear...|[0.12212815487219...|[1.52607565710686...|placeholder|      13.0|\n",
            "|Voice of the Peop...|[7.04688808222974...|[0.00135102871993...|placeholder|       8.0|\n",
            "|Grand Forks Count...|[25.9120253863951...|[0.99999952242962...|placeholder|       0.0|\n",
            "|Neighborhoods Eva...|[-12.499834485524...|[8.64206489871482...|placeholder|      13.0|\n",
            "|Time for NIAA to ...|[18.1117054593245...|[0.99999686759861...|placeholder|       0.0|\n",
            "|River Valley orga...|[21.8587219661939...|[0.99998476543274...|placeholder|       0.0|\n",
            "|Biden student deb...|[41.1966095114998...|[0.99999999999998...|placeholder|       0.0|\n",
            "+--------------------+--------------------+--------------------+-----------+----------+\n",
            "only showing top 10 rows\n",
            "\n"
          ]
        }
      ],
      "source": [
        "prediction_data.select('description','rawPrediction', 'probability','category','prediction').show(10)\n"
      ]
    },
    {
      "cell_type": "code",
      "execution_count": 48,
      "metadata": {
        "id": "A4hAZZsy9Gi8"
      },
      "outputs": [],
      "source": [
        "prediction_column = prediction_data.select('prediction')"
      ]
    },
    {
      "cell_type": "code",
      "execution_count": 49,
      "metadata": {
        "id": "wl3c0du6-u4R"
      },
      "outputs": [],
      "source": [
        "from pyspark.sql.functions import udf\n",
        "from pyspark.sql.types import StringType\n",
        "\n",
        "# define a user-defined function to map category_number to category name\n",
        "map_label_udf = udf(lambda x: label_dict.get(x), StringType())\n",
        "\n",
        "# add a new column 'predicted_category' by mapping the category_number column to category name\n",
        "prediction_column = prediction_column.withColumn('predicted_category', map_label_udf(prediction_column.prediction))\n",
        "\n",
        "# select only the predicted_category column\n",
        "final_predictions = prediction_column.select('predicted_category')\n"
      ]
    },
    {
      "cell_type": "code",
      "execution_count": 50,
      "metadata": {
        "colab": {
          "base_uri": "https://localhost:8080/"
        },
        "id": "FXVyebD59Gli",
        "outputId": "8f428178-c3ea-4662-b715-bb1764ed9f61"
      },
      "outputs": [
        {
          "name": "stdout",
          "output_type": "stream",
          "text": [
            "+------------------+\n",
            "|predicted_category|\n",
            "+------------------+\n",
            "|             WOMEN|\n",
            "|          POLITICS|\n",
            "+------------------+\n",
            "only showing top 2 rows\n",
            "\n"
          ]
        }
      ],
      "source": [
        "final_predictions.show(2)"
      ]
    },
    {
      "cell_type": "code",
      "execution_count": 150,
      "metadata": {
        "colab": {
          "base_uri": "https://localhost:8080/"
        },
        "id": "OC3D1PxvFIhM",
        "outputId": "fe2a0831-56f8-47f9-84a3-9deb7b602087"
      },
      "outputs": [
        {
          "name": "stdout",
          "output_type": "stream",
          "text": [
            "+------------------+\n",
            "|predicted_category|\n",
            "+------------------+\n",
            "|             WOMEN|\n",
            "|          POLITICS|\n",
            "|          POLITICS|\n",
            "|            IMPACT|\n",
            "|             WOMEN|\n",
            "+------------------+\n",
            "only showing top 5 rows\n",
            "\n"
          ]
        }
      ],
      "source": [
        "final_predictions.show(5)"
      ]
    },
    {
      "cell_type": "code",
      "execution_count": 151,
      "metadata": {
        "colab": {
          "base_uri": "https://localhost:8080/"
        },
        "id": "A2Y5A6EjLOmR",
        "outputId": "44f3e4d1-63b5-485a-c981-35597f2a82e6"
      },
      "outputs": [
        {
          "data": {
            "text/plain": [
              "2877831"
            ]
          },
          "execution_count": 151,
          "metadata": {},
          "output_type": "execute_result"
        }
      ],
      "source": [
        "final_predictions.count()"
      ]
    },
    {
      "cell_type": "code",
      "execution_count": 52,
      "metadata": {
        "colab": {
          "base_uri": "https://localhost:8080/",
          "height": 629
        },
        "id": "2vE23dkEOzKA",
        "outputId": "15e3e1a5-32b8-4a90-a6eb-58c3590b42d0"
      },
      "outputs": [
        {
          "data": {
            "text/html": [
              "\n",
              "  <div id=\"df-aeefbc07-ecd3-43a4-882d-1b82ac7cb398\">\n",
              "    <div class=\"colab-df-container\">\n",
              "      <div>\n",
              "<style scoped>\n",
              "    .dataframe tbody tr th:only-of-type {\n",
              "        vertical-align: middle;\n",
              "    }\n",
              "\n",
              "    .dataframe tbody tr th {\n",
              "        vertical-align: top;\n",
              "    }\n",
              "\n",
              "    .dataframe thead th {\n",
              "        text-align: right;\n",
              "    }\n",
              "</style>\n",
              "<table border=\"1\" class=\"dataframe\">\n",
              "  <thead>\n",
              "    <tr style=\"text-align: right;\">\n",
              "      <th></th>\n",
              "      <th>Unnamed: 0</th>\n",
              "      <th>published_time</th>\n",
              "      <th>url</th>\n",
              "      <th>title</th>\n",
              "      <th>image_url</th>\n",
              "      <th>LangCode</th>\n",
              "      <th>doc_tone</th>\n",
              "      <th>DomainCountryCode</th>\n",
              "      <th>location</th>\n",
              "      <th>Lat</th>\n",
              "      <th>...</th>\n",
              "      <th>CountryCode</th>\n",
              "      <th>Adm1Code</th>\n",
              "      <th>Adm2Code</th>\n",
              "      <th>GeoType</th>\n",
              "      <th>contextual_text</th>\n",
              "      <th>GeoCoord</th>\n",
              "      <th>row_number</th>\n",
              "      <th>state_code</th>\n",
              "      <th>source</th>\n",
              "      <th>category</th>\n",
              "    </tr>\n",
              "  </thead>\n",
              "  <tbody>\n",
              "    <tr>\n",
              "      <th>0</th>\n",
              "      <td>0</td>\n",
              "      <td>2022-11-30 03:30:00</td>\n",
              "      <td>https://www.npr.org/2022/11/29/1139822833/twit...</td>\n",
              "      <td>Twitter COVID misinformation policy will no lo...</td>\n",
              "      <td>https://media.npr.org/assets/img/2022/11/29/ap...</td>\n",
              "      <td>eng</td>\n",
              "      <td>-5.711086</td>\n",
              "      <td>US</td>\n",
              "      <td>Yeshiva University, New York, United States</td>\n",
              "      <td>40.8520</td>\n",
              "      <td>...</td>\n",
              "      <td>US</td>\n",
              "      <td>USNY</td>\n",
              "      <td>NY061</td>\n",
              "      <td>3</td>\n",
              "      <td>virus stay folks do not cede the town square t...</td>\n",
              "      <td>POINT(-73.9285 40.852)</td>\n",
              "      <td>1</td>\n",
              "      <td>NY</td>\n",
              "      <td>gdelt-bq.covid19.onlinenewsgeo</td>\n",
              "      <td>placeholder</td>\n",
              "    </tr>\n",
              "    <tr>\n",
              "      <th>1</th>\n",
              "      <td>1</td>\n",
              "      <td>2022-11-29 15:15:00</td>\n",
              "      <td>https://bismarcktribune.com/news/local/city-le...</td>\n",
              "      <td>City - led initiative takes aim at homelessnes...</td>\n",
              "      <td>https://bloximages.chicago2.vip.townnews.com/b...</td>\n",
              "      <td>eng</td>\n",
              "      <td>-1.504425</td>\n",
              "      <td>US</td>\n",
              "      <td>Bismarck, North Dakota, United States</td>\n",
              "      <td>46.8083</td>\n",
              "      <td>...</td>\n",
              "      <td>US</td>\n",
              "      <td>USND</td>\n",
              "      <td>ND015</td>\n",
              "      <td>3</td>\n",
              "      <td>to services benefiting people in need the idea...</td>\n",
              "      <td>POINT(-100.784 46.8083)</td>\n",
              "      <td>1</td>\n",
              "      <td>ND</td>\n",
              "      <td>gdelt-bq.covid19.onlinenewsgeo</td>\n",
              "      <td>placeholder</td>\n",
              "    </tr>\n",
              "    <tr>\n",
              "      <th>2</th>\n",
              "      <td>2</td>\n",
              "      <td>2022-11-08 06:30:00</td>\n",
              "      <td>https://manchesterinklink.com/applications-ava...</td>\n",
              "      <td>Applications available for Restaurant Infrastr...</td>\n",
              "      <td>https://manchesterinklink.com/wp-content/uploa...</td>\n",
              "      <td>eng</td>\n",
              "      <td>2.016129</td>\n",
              "      <td>US</td>\n",
              "      <td>New Hampshire, United States</td>\n",
              "      <td>43.4108</td>\n",
              "      <td>...</td>\n",
              "      <td>US</td>\n",
              "      <td>USNH</td>\n",
              "      <td>NaN</td>\n",
              "      <td>2</td>\n",
              "      <td>picking up or having food delivered safe and e...</td>\n",
              "      <td>POINT(-71.5653 43.4108)</td>\n",
              "      <td>1</td>\n",
              "      <td>NH</td>\n",
              "      <td>gdelt-bq.covid19.onlinenewsgeo</td>\n",
              "      <td>placeholder</td>\n",
              "    </tr>\n",
              "    <tr>\n",
              "      <th>3</th>\n",
              "      <td>3</td>\n",
              "      <td>2022-11-02 12:15:00</td>\n",
              "      <td>https://chippewa.com/community/dunnconnect/uw-...</td>\n",
              "      <td>UW - Stout research at Devil Punchbowl is focu...</td>\n",
              "      <td>https://bloximages.chicago2.vip.townnews.com/c...</td>\n",
              "      <td>eng</td>\n",
              "      <td>0.631579</td>\n",
              "      <td>US</td>\n",
              "      <td>Eau Claire, Wisconsin, United States</td>\n",
              "      <td>44.8113</td>\n",
              "      <td>...</td>\n",
              "      <td>US</td>\n",
              "      <td>USWI</td>\n",
              "      <td>WI035</td>\n",
              "      <td>3</td>\n",
              "      <td>hadnt previously been identified in dunn count...</td>\n",
              "      <td>POINT(-91.4985 44.8113)</td>\n",
              "      <td>1</td>\n",
              "      <td>WI</td>\n",
              "      <td>gdelt-bq.covid19.onlinenewsgeo</td>\n",
              "      <td>placeholder</td>\n",
              "    </tr>\n",
              "    <tr>\n",
              "      <th>4</th>\n",
              "      <td>4</td>\n",
              "      <td>2022-11-23 15:00:00</td>\n",
              "      <td>https://www.daily-journal.com/opinion/voice-of...</td>\n",
              "      <td>Voice of the People : Say No to violence again...</td>\n",
              "      <td>https://bloximages.newyork1.vip.townnews.com/d...</td>\n",
              "      <td>eng</td>\n",
              "      <td>-2.835052</td>\n",
              "      <td>US</td>\n",
              "      <td>Kankakee, Illinois, United States</td>\n",
              "      <td>41.1200</td>\n",
              "      <td>...</td>\n",
              "      <td>US</td>\n",
              "      <td>USIL</td>\n",
              "      <td>IL091</td>\n",
              "      <td>3</td>\n",
              "      <td>violence mostly by an intimate partner violenc...</td>\n",
              "      <td>POINT(-87.8612 41.12)</td>\n",
              "      <td>1</td>\n",
              "      <td>IL</td>\n",
              "      <td>gdelt-bq.covid19.onlinenewsgeo</td>\n",
              "      <td>placeholder</td>\n",
              "    </tr>\n",
              "  </tbody>\n",
              "</table>\n",
              "<p>5 rows × 21 columns</p>\n",
              "</div>\n",
              "      <button class=\"colab-df-convert\" onclick=\"convertToInteractive('df-aeefbc07-ecd3-43a4-882d-1b82ac7cb398')\"\n",
              "              title=\"Convert this dataframe to an interactive table.\"\n",
              "              style=\"display:none;\">\n",
              "        \n",
              "  <svg xmlns=\"http://www.w3.org/2000/svg\" height=\"24px\"viewBox=\"0 0 24 24\"\n",
              "       width=\"24px\">\n",
              "    <path d=\"M0 0h24v24H0V0z\" fill=\"none\"/>\n",
              "    <path d=\"M18.56 5.44l.94 2.06.94-2.06 2.06-.94-2.06-.94-.94-2.06-.94 2.06-2.06.94zm-11 1L8.5 8.5l.94-2.06 2.06-.94-2.06-.94L8.5 2.5l-.94 2.06-2.06.94zm10 10l.94 2.06.94-2.06 2.06-.94-2.06-.94-.94-2.06-.94 2.06-2.06.94z\"/><path d=\"M17.41 7.96l-1.37-1.37c-.4-.4-.92-.59-1.43-.59-.52 0-1.04.2-1.43.59L10.3 9.45l-7.72 7.72c-.78.78-.78 2.05 0 2.83L4 21.41c.39.39.9.59 1.41.59.51 0 1.02-.2 1.41-.59l7.78-7.78 2.81-2.81c.8-.78.8-2.07 0-2.86zM5.41 20L4 18.59l7.72-7.72 1.47 1.35L5.41 20z\"/>\n",
              "  </svg>\n",
              "      </button>\n",
              "      \n",
              "  <style>\n",
              "    .colab-df-container {\n",
              "      display:flex;\n",
              "      flex-wrap:wrap;\n",
              "      gap: 12px;\n",
              "    }\n",
              "\n",
              "    .colab-df-convert {\n",
              "      background-color: #E8F0FE;\n",
              "      border: none;\n",
              "      border-radius: 50%;\n",
              "      cursor: pointer;\n",
              "      display: none;\n",
              "      fill: #1967D2;\n",
              "      height: 32px;\n",
              "      padding: 0 0 0 0;\n",
              "      width: 32px;\n",
              "    }\n",
              "\n",
              "    .colab-df-convert:hover {\n",
              "      background-color: #E2EBFA;\n",
              "      box-shadow: 0px 1px 2px rgba(60, 64, 67, 0.3), 0px 1px 3px 1px rgba(60, 64, 67, 0.15);\n",
              "      fill: #174EA6;\n",
              "    }\n",
              "\n",
              "    [theme=dark] .colab-df-convert {\n",
              "      background-color: #3B4455;\n",
              "      fill: #D2E3FC;\n",
              "    }\n",
              "\n",
              "    [theme=dark] .colab-df-convert:hover {\n",
              "      background-color: #434B5C;\n",
              "      box-shadow: 0px 1px 3px 1px rgba(0, 0, 0, 0.15);\n",
              "      filter: drop-shadow(0px 1px 2px rgba(0, 0, 0, 0.3));\n",
              "      fill: #FFFFFF;\n",
              "    }\n",
              "  </style>\n",
              "\n",
              "      <script>\n",
              "        const buttonEl =\n",
              "          document.querySelector('#df-aeefbc07-ecd3-43a4-882d-1b82ac7cb398 button.colab-df-convert');\n",
              "        buttonEl.style.display =\n",
              "          google.colab.kernel.accessAllowed ? 'block' : 'none';\n",
              "\n",
              "        async function convertToInteractive(key) {\n",
              "          const element = document.querySelector('#df-aeefbc07-ecd3-43a4-882d-1b82ac7cb398');\n",
              "          const dataTable =\n",
              "            await google.colab.kernel.invokeFunction('convertToInteractive',\n",
              "                                                     [key], {});\n",
              "          if (!dataTable) return;\n",
              "\n",
              "          const docLinkHtml = 'Like what you see? Visit the ' +\n",
              "            '<a target=\"_blank\" href=https://colab.research.google.com/notebooks/data_table.ipynb>data table notebook</a>'\n",
              "            + ' to learn more about interactive tables.';\n",
              "          element.innerHTML = '';\n",
              "          dataTable['output_type'] = 'display_data';\n",
              "          await google.colab.output.renderOutput(dataTable, element);\n",
              "          const docLink = document.createElement('div');\n",
              "          docLink.innerHTML = docLinkHtml;\n",
              "          element.appendChild(docLink);\n",
              "        }\n",
              "      </script>\n",
              "    </div>\n",
              "  </div>\n",
              "  "
            ],
            "text/plain": [
              "   Unnamed: 0       published_time  \\\n",
              "0           0  2022-11-30 03:30:00   \n",
              "1           1  2022-11-29 15:15:00   \n",
              "2           2  2022-11-08 06:30:00   \n",
              "3           3  2022-11-02 12:15:00   \n",
              "4           4  2022-11-23 15:00:00   \n",
              "\n",
              "                                                 url  \\\n",
              "0  https://www.npr.org/2022/11/29/1139822833/twit...   \n",
              "1  https://bismarcktribune.com/news/local/city-le...   \n",
              "2  https://manchesterinklink.com/applications-ava...   \n",
              "3  https://chippewa.com/community/dunnconnect/uw-...   \n",
              "4  https://www.daily-journal.com/opinion/voice-of...   \n",
              "\n",
              "                                               title  \\\n",
              "0  Twitter COVID misinformation policy will no lo...   \n",
              "1  City - led initiative takes aim at homelessnes...   \n",
              "2  Applications available for Restaurant Infrastr...   \n",
              "3  UW - Stout research at Devil Punchbowl is focu...   \n",
              "4  Voice of the People : Say No to violence again...   \n",
              "\n",
              "                                           image_url LangCode  doc_tone  \\\n",
              "0  https://media.npr.org/assets/img/2022/11/29/ap...      eng -5.711086   \n",
              "1  https://bloximages.chicago2.vip.townnews.com/b...      eng -1.504425   \n",
              "2  https://manchesterinklink.com/wp-content/uploa...      eng  2.016129   \n",
              "3  https://bloximages.chicago2.vip.townnews.com/c...      eng  0.631579   \n",
              "4  https://bloximages.newyork1.vip.townnews.com/d...      eng -2.835052   \n",
              "\n",
              "  DomainCountryCode                                     location      Lat  \\\n",
              "0                US  Yeshiva University, New York, United States  40.8520   \n",
              "1                US        Bismarck, North Dakota, United States  46.8083   \n",
              "2                US                 New Hampshire, United States  43.4108   \n",
              "3                US         Eau Claire, Wisconsin, United States  44.8113   \n",
              "4                US            Kankakee, Illinois, United States  41.1200   \n",
              "\n",
              "   ...  CountryCode Adm1Code Adm2Code GeoType  \\\n",
              "0  ...           US     USNY    NY061       3   \n",
              "1  ...           US     USND    ND015       3   \n",
              "2  ...           US     USNH      NaN       2   \n",
              "3  ...           US     USWI    WI035       3   \n",
              "4  ...           US     USIL    IL091       3   \n",
              "\n",
              "                                     contextual_text                 GeoCoord  \\\n",
              "0  virus stay folks do not cede the town square t...   POINT(-73.9285 40.852)   \n",
              "1  to services benefiting people in need the idea...  POINT(-100.784 46.8083)   \n",
              "2  picking up or having food delivered safe and e...  POINT(-71.5653 43.4108)   \n",
              "3  hadnt previously been identified in dunn count...  POINT(-91.4985 44.8113)   \n",
              "4  violence mostly by an intimate partner violenc...    POINT(-87.8612 41.12)   \n",
              "\n",
              "  row_number  state_code                          source     category  \n",
              "0          1          NY  gdelt-bq.covid19.onlinenewsgeo  placeholder  \n",
              "1          1          ND  gdelt-bq.covid19.onlinenewsgeo  placeholder  \n",
              "2          1          NH  gdelt-bq.covid19.onlinenewsgeo  placeholder  \n",
              "3          1          WI  gdelt-bq.covid19.onlinenewsgeo  placeholder  \n",
              "4          1          IL  gdelt-bq.covid19.onlinenewsgeo  placeholder  \n",
              "\n",
              "[5 rows x 21 columns]"
            ]
          },
          "execution_count": 52,
          "metadata": {},
          "output_type": "execute_result"
        }
      ],
      "source": [
        "df10.head()"
      ]
    },
    {
      "cell_type": "code",
      "execution_count": 53,
      "metadata": {
        "id": "BU57QCZoQ7oH"
      },
      "outputs": [],
      "source": [
        "df10 = df10.rename(columns={'Unnamed: 0': 'number'})\n"
      ]
    },
    {
      "cell_type": "code",
      "execution_count": 54,
      "metadata": {
        "id": "xtQqTFySRGG0"
      },
      "outputs": [],
      "source": [
        "df10 = df10[['url', 'title','state_code']]"
      ]
    },
    {
      "cell_type": "code",
      "execution_count": 56,
      "metadata": {
        "colab": {
          "base_uri": "https://localhost:8080/",
          "height": 206
        },
        "id": "GmRkCWdrRUyX",
        "outputId": "047676f5-070a-4344-cabc-3085cbd2ec5c"
      },
      "outputs": [
        {
          "data": {
            "text/html": [
              "\n",
              "  <div id=\"df-cd7bb13b-ed6c-43a9-b077-4b643af6dc1f\">\n",
              "    <div class=\"colab-df-container\">\n",
              "      <div>\n",
              "<style scoped>\n",
              "    .dataframe tbody tr th:only-of-type {\n",
              "        vertical-align: middle;\n",
              "    }\n",
              "\n",
              "    .dataframe tbody tr th {\n",
              "        vertical-align: top;\n",
              "    }\n",
              "\n",
              "    .dataframe thead th {\n",
              "        text-align: right;\n",
              "    }\n",
              "</style>\n",
              "<table border=\"1\" class=\"dataframe\">\n",
              "  <thead>\n",
              "    <tr style=\"text-align: right;\">\n",
              "      <th></th>\n",
              "      <th>url</th>\n",
              "      <th>title</th>\n",
              "      <th>state_code</th>\n",
              "    </tr>\n",
              "  </thead>\n",
              "  <tbody>\n",
              "    <tr>\n",
              "      <th>0</th>\n",
              "      <td>https://www.npr.org/2022/11/29/1139822833/twit...</td>\n",
              "      <td>Twitter COVID misinformation policy will no lo...</td>\n",
              "      <td>NY</td>\n",
              "    </tr>\n",
              "    <tr>\n",
              "      <th>1</th>\n",
              "      <td>https://bismarcktribune.com/news/local/city-le...</td>\n",
              "      <td>City - led initiative takes aim at homelessnes...</td>\n",
              "      <td>ND</td>\n",
              "    </tr>\n",
              "    <tr>\n",
              "      <th>2</th>\n",
              "      <td>https://manchesterinklink.com/applications-ava...</td>\n",
              "      <td>Applications available for Restaurant Infrastr...</td>\n",
              "      <td>NH</td>\n",
              "    </tr>\n",
              "    <tr>\n",
              "      <th>3</th>\n",
              "      <td>https://chippewa.com/community/dunnconnect/uw-...</td>\n",
              "      <td>UW - Stout research at Devil Punchbowl is focu...</td>\n",
              "      <td>WI</td>\n",
              "    </tr>\n",
              "    <tr>\n",
              "      <th>4</th>\n",
              "      <td>https://www.daily-journal.com/opinion/voice-of...</td>\n",
              "      <td>Voice of the People : Say No to violence again...</td>\n",
              "      <td>IL</td>\n",
              "    </tr>\n",
              "  </tbody>\n",
              "</table>\n",
              "</div>\n",
              "      <button class=\"colab-df-convert\" onclick=\"convertToInteractive('df-cd7bb13b-ed6c-43a9-b077-4b643af6dc1f')\"\n",
              "              title=\"Convert this dataframe to an interactive table.\"\n",
              "              style=\"display:none;\">\n",
              "        \n",
              "  <svg xmlns=\"http://www.w3.org/2000/svg\" height=\"24px\"viewBox=\"0 0 24 24\"\n",
              "       width=\"24px\">\n",
              "    <path d=\"M0 0h24v24H0V0z\" fill=\"none\"/>\n",
              "    <path d=\"M18.56 5.44l.94 2.06.94-2.06 2.06-.94-2.06-.94-.94-2.06-.94 2.06-2.06.94zm-11 1L8.5 8.5l.94-2.06 2.06-.94-2.06-.94L8.5 2.5l-.94 2.06-2.06.94zm10 10l.94 2.06.94-2.06 2.06-.94-2.06-.94-.94-2.06-.94 2.06-2.06.94z\"/><path d=\"M17.41 7.96l-1.37-1.37c-.4-.4-.92-.59-1.43-.59-.52 0-1.04.2-1.43.59L10.3 9.45l-7.72 7.72c-.78.78-.78 2.05 0 2.83L4 21.41c.39.39.9.59 1.41.59.51 0 1.02-.2 1.41-.59l7.78-7.78 2.81-2.81c.8-.78.8-2.07 0-2.86zM5.41 20L4 18.59l7.72-7.72 1.47 1.35L5.41 20z\"/>\n",
              "  </svg>\n",
              "      </button>\n",
              "      \n",
              "  <style>\n",
              "    .colab-df-container {\n",
              "      display:flex;\n",
              "      flex-wrap:wrap;\n",
              "      gap: 12px;\n",
              "    }\n",
              "\n",
              "    .colab-df-convert {\n",
              "      background-color: #E8F0FE;\n",
              "      border: none;\n",
              "      border-radius: 50%;\n",
              "      cursor: pointer;\n",
              "      display: none;\n",
              "      fill: #1967D2;\n",
              "      height: 32px;\n",
              "      padding: 0 0 0 0;\n",
              "      width: 32px;\n",
              "    }\n",
              "\n",
              "    .colab-df-convert:hover {\n",
              "      background-color: #E2EBFA;\n",
              "      box-shadow: 0px 1px 2px rgba(60, 64, 67, 0.3), 0px 1px 3px 1px rgba(60, 64, 67, 0.15);\n",
              "      fill: #174EA6;\n",
              "    }\n",
              "\n",
              "    [theme=dark] .colab-df-convert {\n",
              "      background-color: #3B4455;\n",
              "      fill: #D2E3FC;\n",
              "    }\n",
              "\n",
              "    [theme=dark] .colab-df-convert:hover {\n",
              "      background-color: #434B5C;\n",
              "      box-shadow: 0px 1px 3px 1px rgba(0, 0, 0, 0.15);\n",
              "      filter: drop-shadow(0px 1px 2px rgba(0, 0, 0, 0.3));\n",
              "      fill: #FFFFFF;\n",
              "    }\n",
              "  </style>\n",
              "\n",
              "      <script>\n",
              "        const buttonEl =\n",
              "          document.querySelector('#df-cd7bb13b-ed6c-43a9-b077-4b643af6dc1f button.colab-df-convert');\n",
              "        buttonEl.style.display =\n",
              "          google.colab.kernel.accessAllowed ? 'block' : 'none';\n",
              "\n",
              "        async function convertToInteractive(key) {\n",
              "          const element = document.querySelector('#df-cd7bb13b-ed6c-43a9-b077-4b643af6dc1f');\n",
              "          const dataTable =\n",
              "            await google.colab.kernel.invokeFunction('convertToInteractive',\n",
              "                                                     [key], {});\n",
              "          if (!dataTable) return;\n",
              "\n",
              "          const docLinkHtml = 'Like what you see? Visit the ' +\n",
              "            '<a target=\"_blank\" href=https://colab.research.google.com/notebooks/data_table.ipynb>data table notebook</a>'\n",
              "            + ' to learn more about interactive tables.';\n",
              "          element.innerHTML = '';\n",
              "          dataTable['output_type'] = 'display_data';\n",
              "          await google.colab.output.renderOutput(dataTable, element);\n",
              "          const docLink = document.createElement('div');\n",
              "          docLink.innerHTML = docLinkHtml;\n",
              "          element.appendChild(docLink);\n",
              "        }\n",
              "      </script>\n",
              "    </div>\n",
              "  </div>\n",
              "  "
            ],
            "text/plain": [
              "                                                 url  \\\n",
              "0  https://www.npr.org/2022/11/29/1139822833/twit...   \n",
              "1  https://bismarcktribune.com/news/local/city-le...   \n",
              "2  https://manchesterinklink.com/applications-ava...   \n",
              "3  https://chippewa.com/community/dunnconnect/uw-...   \n",
              "4  https://www.daily-journal.com/opinion/voice-of...   \n",
              "\n",
              "                                               title state_code  \n",
              "0  Twitter COVID misinformation policy will no lo...         NY  \n",
              "1  City - led initiative takes aim at homelessnes...         ND  \n",
              "2  Applications available for Restaurant Infrastr...         NH  \n",
              "3  UW - Stout research at Devil Punchbowl is focu...         WI  \n",
              "4  Voice of the People : Say No to violence again...         IL  "
            ]
          },
          "execution_count": 56,
          "metadata": {},
          "output_type": "execute_result"
        }
      ],
      "source": [
        "df10.head()"
      ]
    },
    {
      "cell_type": "code",
      "execution_count": 55,
      "metadata": {
        "id": "RqsHuWQZRhmz"
      },
      "outputs": [],
      "source": [
        "df10.reset_index(drop=True, inplace=True)"
      ]
    },
    {
      "cell_type": "code",
      "execution_count": 68,
      "metadata": {
        "colab": {
          "base_uri": "https://localhost:8080/",
          "height": 206
        },
        "id": "whqfSR9NRnrz",
        "outputId": "aaa0a6a0-464c-4a38-d680-d2fee418d98c"
      },
      "outputs": [
        {
          "data": {
            "text/html": [
              "\n",
              "  <div id=\"df-9628e6e6-4735-414f-8b30-8da39cca71b3\">\n",
              "    <div class=\"colab-df-container\">\n",
              "      <div>\n",
              "<style scoped>\n",
              "    .dataframe tbody tr th:only-of-type {\n",
              "        vertical-align: middle;\n",
              "    }\n",
              "\n",
              "    .dataframe tbody tr th {\n",
              "        vertical-align: top;\n",
              "    }\n",
              "\n",
              "    .dataframe thead th {\n",
              "        text-align: right;\n",
              "    }\n",
              "</style>\n",
              "<table border=\"1\" class=\"dataframe\">\n",
              "  <thead>\n",
              "    <tr style=\"text-align: right;\">\n",
              "      <th></th>\n",
              "      <th>url</th>\n",
              "      <th>title</th>\n",
              "      <th>state_code</th>\n",
              "    </tr>\n",
              "  </thead>\n",
              "  <tbody>\n",
              "    <tr>\n",
              "      <th>0</th>\n",
              "      <td>https://www.npr.org/2022/11/29/1139822833/twit...</td>\n",
              "      <td>Twitter COVID misinformation policy will no lo...</td>\n",
              "      <td>NY</td>\n",
              "    </tr>\n",
              "    <tr>\n",
              "      <th>1</th>\n",
              "      <td>https://bismarcktribune.com/news/local/city-le...</td>\n",
              "      <td>City - led initiative takes aim at homelessnes...</td>\n",
              "      <td>ND</td>\n",
              "    </tr>\n",
              "    <tr>\n",
              "      <th>2</th>\n",
              "      <td>https://manchesterinklink.com/applications-ava...</td>\n",
              "      <td>Applications available for Restaurant Infrastr...</td>\n",
              "      <td>NH</td>\n",
              "    </tr>\n",
              "    <tr>\n",
              "      <th>3</th>\n",
              "      <td>https://chippewa.com/community/dunnconnect/uw-...</td>\n",
              "      <td>UW - Stout research at Devil Punchbowl is focu...</td>\n",
              "      <td>WI</td>\n",
              "    </tr>\n",
              "    <tr>\n",
              "      <th>4</th>\n",
              "      <td>https://www.daily-journal.com/opinion/voice-of...</td>\n",
              "      <td>Voice of the People : Say No to violence again...</td>\n",
              "      <td>IL</td>\n",
              "    </tr>\n",
              "  </tbody>\n",
              "</table>\n",
              "</div>\n",
              "      <button class=\"colab-df-convert\" onclick=\"convertToInteractive('df-9628e6e6-4735-414f-8b30-8da39cca71b3')\"\n",
              "              title=\"Convert this dataframe to an interactive table.\"\n",
              "              style=\"display:none;\">\n",
              "        \n",
              "  <svg xmlns=\"http://www.w3.org/2000/svg\" height=\"24px\"viewBox=\"0 0 24 24\"\n",
              "       width=\"24px\">\n",
              "    <path d=\"M0 0h24v24H0V0z\" fill=\"none\"/>\n",
              "    <path d=\"M18.56 5.44l.94 2.06.94-2.06 2.06-.94-2.06-.94-.94-2.06-.94 2.06-2.06.94zm-11 1L8.5 8.5l.94-2.06 2.06-.94-2.06-.94L8.5 2.5l-.94 2.06-2.06.94zm10 10l.94 2.06.94-2.06 2.06-.94-2.06-.94-.94-2.06-.94 2.06-2.06.94z\"/><path d=\"M17.41 7.96l-1.37-1.37c-.4-.4-.92-.59-1.43-.59-.52 0-1.04.2-1.43.59L10.3 9.45l-7.72 7.72c-.78.78-.78 2.05 0 2.83L4 21.41c.39.39.9.59 1.41.59.51 0 1.02-.2 1.41-.59l7.78-7.78 2.81-2.81c.8-.78.8-2.07 0-2.86zM5.41 20L4 18.59l7.72-7.72 1.47 1.35L5.41 20z\"/>\n",
              "  </svg>\n",
              "      </button>\n",
              "      \n",
              "  <style>\n",
              "    .colab-df-container {\n",
              "      display:flex;\n",
              "      flex-wrap:wrap;\n",
              "      gap: 12px;\n",
              "    }\n",
              "\n",
              "    .colab-df-convert {\n",
              "      background-color: #E8F0FE;\n",
              "      border: none;\n",
              "      border-radius: 50%;\n",
              "      cursor: pointer;\n",
              "      display: none;\n",
              "      fill: #1967D2;\n",
              "      height: 32px;\n",
              "      padding: 0 0 0 0;\n",
              "      width: 32px;\n",
              "    }\n",
              "\n",
              "    .colab-df-convert:hover {\n",
              "      background-color: #E2EBFA;\n",
              "      box-shadow: 0px 1px 2px rgba(60, 64, 67, 0.3), 0px 1px 3px 1px rgba(60, 64, 67, 0.15);\n",
              "      fill: #174EA6;\n",
              "    }\n",
              "\n",
              "    [theme=dark] .colab-df-convert {\n",
              "      background-color: #3B4455;\n",
              "      fill: #D2E3FC;\n",
              "    }\n",
              "\n",
              "    [theme=dark] .colab-df-convert:hover {\n",
              "      background-color: #434B5C;\n",
              "      box-shadow: 0px 1px 3px 1px rgba(0, 0, 0, 0.15);\n",
              "      filter: drop-shadow(0px 1px 2px rgba(0, 0, 0, 0.3));\n",
              "      fill: #FFFFFF;\n",
              "    }\n",
              "  </style>\n",
              "\n",
              "      <script>\n",
              "        const buttonEl =\n",
              "          document.querySelector('#df-9628e6e6-4735-414f-8b30-8da39cca71b3 button.colab-df-convert');\n",
              "        buttonEl.style.display =\n",
              "          google.colab.kernel.accessAllowed ? 'block' : 'none';\n",
              "\n",
              "        async function convertToInteractive(key) {\n",
              "          const element = document.querySelector('#df-9628e6e6-4735-414f-8b30-8da39cca71b3');\n",
              "          const dataTable =\n",
              "            await google.colab.kernel.invokeFunction('convertToInteractive',\n",
              "                                                     [key], {});\n",
              "          if (!dataTable) return;\n",
              "\n",
              "          const docLinkHtml = 'Like what you see? Visit the ' +\n",
              "            '<a target=\"_blank\" href=https://colab.research.google.com/notebooks/data_table.ipynb>data table notebook</a>'\n",
              "            + ' to learn more about interactive tables.';\n",
              "          element.innerHTML = '';\n",
              "          dataTable['output_type'] = 'display_data';\n",
              "          await google.colab.output.renderOutput(dataTable, element);\n",
              "          const docLink = document.createElement('div');\n",
              "          docLink.innerHTML = docLinkHtml;\n",
              "          element.appendChild(docLink);\n",
              "        }\n",
              "      </script>\n",
              "    </div>\n",
              "  </div>\n",
              "  "
            ],
            "text/plain": [
              "                                                 url  \\\n",
              "0  https://www.npr.org/2022/11/29/1139822833/twit...   \n",
              "1  https://bismarcktribune.com/news/local/city-le...   \n",
              "2  https://manchesterinklink.com/applications-ava...   \n",
              "3  https://chippewa.com/community/dunnconnect/uw-...   \n",
              "4  https://www.daily-journal.com/opinion/voice-of...   \n",
              "\n",
              "                                               title state_code  \n",
              "0  Twitter COVID misinformation policy will no lo...         NY  \n",
              "1  City - led initiative takes aim at homelessnes...         ND  \n",
              "2  Applications available for Restaurant Infrastr...         NH  \n",
              "3  UW - Stout research at Devil Punchbowl is focu...         WI  \n",
              "4  Voice of the People : Say No to violence again...         IL  "
            ]
          },
          "execution_count": 68,
          "metadata": {},
          "output_type": "execute_result"
        }
      ],
      "source": [
        "df10.head()"
      ]
    },
    {
      "cell_type": "code",
      "execution_count": 69,
      "metadata": {
        "id": "8mmqL2JGTs57"
      },
      "outputs": [],
      "source": [
        "df10.to_csv('title.csv', index=False)"
      ]
    },
    {
      "cell_type": "code",
      "execution_count": null,
      "metadata": {
        "id": "TVlnd81HXLlm"
      },
      "outputs": [],
      "source": [
        "df10 = df10.fillna('null')"
      ]
    },
    {
      "cell_type": "code",
      "execution_count": 70,
      "metadata": {
        "colab": {
          "base_uri": "https://localhost:8080/",
          "height": 17
        },
        "id": "uDhY4MQKT9ZA",
        "outputId": "30322b6c-f3c4-4ea8-d91d-411157a8c1ae"
      },
      "outputs": [
        {
          "data": {
            "application/javascript": "\n    async function download(id, filename, size) {\n      if (!google.colab.kernel.accessAllowed) {\n        return;\n      }\n      const div = document.createElement('div');\n      const label = document.createElement('label');\n      label.textContent = `Downloading \"${filename}\": `;\n      div.appendChild(label);\n      const progress = document.createElement('progress');\n      progress.max = size;\n      div.appendChild(progress);\n      document.body.appendChild(div);\n\n      const buffers = [];\n      let downloaded = 0;\n\n      const channel = await google.colab.kernel.comms.open(id);\n      // Send a message to notify the kernel that we're ready.\n      channel.send({})\n\n      for await (const message of channel.messages) {\n        // Send a message to notify the kernel that we're ready.\n        channel.send({})\n        if (message.buffers) {\n          for (const buffer of message.buffers) {\n            buffers.push(buffer);\n            downloaded += buffer.byteLength;\n            progress.value = downloaded;\n          }\n        }\n      }\n      const blob = new Blob(buffers, {type: 'application/binary'});\n      const a = document.createElement('a');\n      a.href = window.URL.createObjectURL(blob);\n      a.download = filename;\n      div.appendChild(a);\n      a.click();\n      div.remove();\n    }\n  ",
            "text/plain": [
              "<IPython.core.display.Javascript object>"
            ]
          },
          "metadata": {},
          "output_type": "display_data"
        },
        {
          "data": {
            "application/javascript": "download(\"download_16318fc7-34a0-4b07-bb1b-8733b6f2d025\", \"title.csv\", 545749377)",
            "text/plain": [
              "<IPython.core.display.Javascript object>"
            ]
          },
          "metadata": {},
          "output_type": "display_data"
        }
      ],
      "source": [
        "files.download('title.csv')"
      ]
    },
    {
      "cell_type": "code",
      "execution_count": 152,
      "metadata": {
        "id": "3MzBHxvPKkcX"
      },
      "outputs": [],
      "source": [
        "import pandas as pd\n",
        "\n",
        "predictions_data_pd = final_predictions.select(\"predicted_category\").toPandas()"
      ]
    },
    {
      "cell_type": "code",
      "execution_count": 156,
      "metadata": {
        "colab": {
          "base_uri": "https://localhost:8080/"
        },
        "id": "4bicwyyqOiDw",
        "outputId": "c5c405b1-4f9f-47eb-ae63-1f179ea2ace5"
      },
      "outputs": [
        {
          "data": {
            "text/plain": [
              "predicted_category    2877831\n",
              "dtype: int64"
            ]
          },
          "execution_count": 156,
          "metadata": {},
          "output_type": "execute_result"
        }
      ],
      "source": [
        "predictions_data_pd.count()"
      ]
    },
    {
      "cell_type": "code",
      "execution_count": 154,
      "metadata": {
        "id": "seaaOHQ8OU4N"
      },
      "outputs": [],
      "source": [
        "predictions_data_pd.to_csv(\"preds.csv\", index=False)"
      ]
    },
    {
      "cell_type": "code",
      "execution_count": 155,
      "metadata": {
        "colab": {
          "base_uri": "https://localhost:8080/",
          "height": 17
        },
        "id": "xZWX_5_1OeaX",
        "outputId": "6668330c-94f4-48d5-c173-8e70bbcca1b0"
      },
      "outputs": [
        {
          "data": {
            "application/javascript": "\n    async function download(id, filename, size) {\n      if (!google.colab.kernel.accessAllowed) {\n        return;\n      }\n      const div = document.createElement('div');\n      const label = document.createElement('label');\n      label.textContent = `Downloading \"${filename}\": `;\n      div.appendChild(label);\n      const progress = document.createElement('progress');\n      progress.max = size;\n      div.appendChild(progress);\n      document.body.appendChild(div);\n\n      const buffers = [];\n      let downloaded = 0;\n\n      const channel = await google.colab.kernel.comms.open(id);\n      // Send a message to notify the kernel that we're ready.\n      channel.send({})\n\n      for await (const message of channel.messages) {\n        // Send a message to notify the kernel that we're ready.\n        channel.send({})\n        if (message.buffers) {\n          for (const buffer of message.buffers) {\n            buffers.push(buffer);\n            downloaded += buffer.byteLength;\n            progress.value = downloaded;\n          }\n        }\n      }\n      const blob = new Blob(buffers, {type: 'application/binary'});\n      const a = document.createElement('a');\n      a.href = window.URL.createObjectURL(blob);\n      a.download = filename;\n      div.appendChild(a);\n      a.click();\n      div.remove();\n    }\n  ",
            "text/plain": [
              "<IPython.core.display.Javascript object>"
            ]
          },
          "metadata": {},
          "output_type": "display_data"
        },
        {
          "data": {
            "application/javascript": "download(\"download_d489e910-d059-42c4-ab8f-2e60c336a70b\", \"preds.csv\", 25927730)",
            "text/plain": [
              "<IPython.core.display.Javascript object>"
            ]
          },
          "metadata": {},
          "output_type": "display_data"
        }
      ],
      "source": [
        "from google.colab import files\n",
        "files.download('preds.csv')"
      ]
    },
    {
      "cell_type": "code",
      "execution_count": 106,
      "metadata": {
        "colab": {
          "base_uri": "https://localhost:8080/"
        },
        "id": "5y5CUfy6IkQH",
        "outputId": "208b9fe4-9497-443c-8239-255952c69cf4"
      },
      "outputs": [
        {
          "data": {
            "text/plain": [
              "2877831"
            ]
          },
          "execution_count": 106,
          "metadata": {},
          "output_type": "execute_result"
        }
      ],
      "source": [
        "final_predictions.count()"
      ]
    },
    {
      "cell_type": "code",
      "execution_count": 66,
      "metadata": {
        "colab": {
          "base_uri": "https://localhost:8080/"
        },
        "id": "5s1FD0LZV7cy",
        "outputId": "212e388f-285c-4896-9d5b-93cb3a54991a"
      },
      "outputs": [
        {
          "data": {
            "text/plain": [
              "url           2877831\n",
              "title         2877831\n",
              "state_code    2877831\n",
              "dtype: int64"
            ]
          },
          "execution_count": 66,
          "metadata": {},
          "output_type": "execute_result"
        }
      ],
      "source": [
        "df10.count()"
      ]
    },
    {
      "cell_type": "code",
      "execution_count": 67,
      "metadata": {
        "colab": {
          "base_uri": "https://localhost:8080/"
        },
        "id": "AjLnQ3dKX69C",
        "outputId": "61adf78a-74e2-4a41-802e-d8538196882e"
      },
      "outputs": [
        {
          "data": {
            "text/plain": [
              "0"
            ]
          },
          "execution_count": 67,
          "metadata": {},
          "output_type": "execute_result"
        }
      ],
      "source": [
        "df10['title'].isnull().sum()\n"
      ]
    },
    {
      "cell_type": "code",
      "execution_count": 65,
      "metadata": {
        "id": "cgvRas5yX_QS"
      },
      "outputs": [],
      "source": [
        "df10['title'] = df10['title'].fillna('No Title')\n"
      ]
    },
    {
      "cell_type": "code",
      "execution_count": 71,
      "metadata": {
        "id": "oOBMqtPZUEch"
      },
      "outputs": [],
      "source": [
        "import pandas as pd\n",
        "\n",
        "# Read the two CSV files\n",
        "df11 = pd.read_csv('preds.csv')\n",
        "df13 = pd.read_csv('title.csv')\n",
        "\n",
        "# Concatenate the two dataframes horizontally\n",
        "mer = pd.concat([df11, df13], axis=1)\n",
        "\n",
        "# Save the merged dataframe to a CSV file\n",
        "mer.to_csv('merged.csv', index=False)\n"
      ]
    },
    {
      "cell_type": "code",
      "execution_count": 72,
      "metadata": {
        "colab": {
          "base_uri": "https://localhost:8080/",
          "height": 17
        },
        "id": "NHtPFmVsWhTQ",
        "outputId": "ae723e4f-6d4d-4d23-a1a7-94f003d30ccf"
      },
      "outputs": [
        {
          "data": {
            "application/javascript": "\n    async function download(id, filename, size) {\n      if (!google.colab.kernel.accessAllowed) {\n        return;\n      }\n      const div = document.createElement('div');\n      const label = document.createElement('label');\n      label.textContent = `Downloading \"${filename}\": `;\n      div.appendChild(label);\n      const progress = document.createElement('progress');\n      progress.max = size;\n      div.appendChild(progress);\n      document.body.appendChild(div);\n\n      const buffers = [];\n      let downloaded = 0;\n\n      const channel = await google.colab.kernel.comms.open(id);\n      // Send a message to notify the kernel that we're ready.\n      channel.send({})\n\n      for await (const message of channel.messages) {\n        // Send a message to notify the kernel that we're ready.\n        channel.send({})\n        if (message.buffers) {\n          for (const buffer of message.buffers) {\n            buffers.push(buffer);\n            downloaded += buffer.byteLength;\n            progress.value = downloaded;\n          }\n        }\n      }\n      const blob = new Blob(buffers, {type: 'application/binary'});\n      const a = document.createElement('a');\n      a.href = window.URL.createObjectURL(blob);\n      a.download = filename;\n      div.appendChild(a);\n      a.click();\n      div.remove();\n    }\n  ",
            "text/plain": [
              "<IPython.core.display.Javascript object>"
            ]
          },
          "metadata": {},
          "output_type": "display_data"
        },
        {
          "data": {
            "application/javascript": "download(\"download_49babc65-315c-486b-9656-332ee9dc45c0\", \"merged.csv\", 571677107)",
            "text/plain": [
              "<IPython.core.display.Javascript object>"
            ]
          },
          "metadata": {},
          "output_type": "display_data"
        }
      ],
      "source": [
        "files.download('merged.csv')"
      ]
    },
    {
      "cell_type": "code",
      "execution_count": 73,
      "metadata": {
        "id": "1tbfZqcEdnoi"
      },
      "outputs": [],
      "source": [
        "df4 = pd.read_csv('merged.csv')"
      ]
    },
    {
      "cell_type": "code",
      "execution_count": 74,
      "metadata": {
        "colab": {
          "base_uri": "https://localhost:8080/",
          "height": 206
        },
        "id": "8xmoAviqdsjT",
        "outputId": "11e3a925-9b19-44cd-c44e-e1bc8db93b5d"
      },
      "outputs": [
        {
          "data": {
            "text/html": [
              "\n",
              "  <div id=\"df-2e444497-b96a-4357-aa39-7017d87aa61e\">\n",
              "    <div class=\"colab-df-container\">\n",
              "      <div>\n",
              "<style scoped>\n",
              "    .dataframe tbody tr th:only-of-type {\n",
              "        vertical-align: middle;\n",
              "    }\n",
              "\n",
              "    .dataframe tbody tr th {\n",
              "        vertical-align: top;\n",
              "    }\n",
              "\n",
              "    .dataframe thead th {\n",
              "        text-align: right;\n",
              "    }\n",
              "</style>\n",
              "<table border=\"1\" class=\"dataframe\">\n",
              "  <thead>\n",
              "    <tr style=\"text-align: right;\">\n",
              "      <th></th>\n",
              "      <th>predicted_category</th>\n",
              "      <th>url</th>\n",
              "      <th>title</th>\n",
              "      <th>state_code</th>\n",
              "    </tr>\n",
              "  </thead>\n",
              "  <tbody>\n",
              "    <tr>\n",
              "      <th>0</th>\n",
              "      <td>WOMEN</td>\n",
              "      <td>https://www.npr.org/2022/11/29/1139822833/twit...</td>\n",
              "      <td>Twitter COVID misinformation policy will no lo...</td>\n",
              "      <td>NY</td>\n",
              "    </tr>\n",
              "    <tr>\n",
              "      <th>1</th>\n",
              "      <td>POLITICS</td>\n",
              "      <td>https://bismarcktribune.com/news/local/city-le...</td>\n",
              "      <td>City - led initiative takes aim at homelessnes...</td>\n",
              "      <td>ND</td>\n",
              "    </tr>\n",
              "    <tr>\n",
              "      <th>2</th>\n",
              "      <td>POLITICS</td>\n",
              "      <td>https://manchesterinklink.com/applications-ava...</td>\n",
              "      <td>Applications available for Restaurant Infrastr...</td>\n",
              "      <td>NH</td>\n",
              "    </tr>\n",
              "    <tr>\n",
              "      <th>3</th>\n",
              "      <td>IMPACT</td>\n",
              "      <td>https://chippewa.com/community/dunnconnect/uw-...</td>\n",
              "      <td>UW - Stout research at Devil Punchbowl is focu...</td>\n",
              "      <td>WI</td>\n",
              "    </tr>\n",
              "    <tr>\n",
              "      <th>4</th>\n",
              "      <td>WOMEN</td>\n",
              "      <td>https://www.daily-journal.com/opinion/voice-of...</td>\n",
              "      <td>Voice of the People : Say No to violence again...</td>\n",
              "      <td>IL</td>\n",
              "    </tr>\n",
              "  </tbody>\n",
              "</table>\n",
              "</div>\n",
              "      <button class=\"colab-df-convert\" onclick=\"convertToInteractive('df-2e444497-b96a-4357-aa39-7017d87aa61e')\"\n",
              "              title=\"Convert this dataframe to an interactive table.\"\n",
              "              style=\"display:none;\">\n",
              "        \n",
              "  <svg xmlns=\"http://www.w3.org/2000/svg\" height=\"24px\"viewBox=\"0 0 24 24\"\n",
              "       width=\"24px\">\n",
              "    <path d=\"M0 0h24v24H0V0z\" fill=\"none\"/>\n",
              "    <path d=\"M18.56 5.44l.94 2.06.94-2.06 2.06-.94-2.06-.94-.94-2.06-.94 2.06-2.06.94zm-11 1L8.5 8.5l.94-2.06 2.06-.94-2.06-.94L8.5 2.5l-.94 2.06-2.06.94zm10 10l.94 2.06.94-2.06 2.06-.94-2.06-.94-.94-2.06-.94 2.06-2.06.94z\"/><path d=\"M17.41 7.96l-1.37-1.37c-.4-.4-.92-.59-1.43-.59-.52 0-1.04.2-1.43.59L10.3 9.45l-7.72 7.72c-.78.78-.78 2.05 0 2.83L4 21.41c.39.39.9.59 1.41.59.51 0 1.02-.2 1.41-.59l7.78-7.78 2.81-2.81c.8-.78.8-2.07 0-2.86zM5.41 20L4 18.59l7.72-7.72 1.47 1.35L5.41 20z\"/>\n",
              "  </svg>\n",
              "      </button>\n",
              "      \n",
              "  <style>\n",
              "    .colab-df-container {\n",
              "      display:flex;\n",
              "      flex-wrap:wrap;\n",
              "      gap: 12px;\n",
              "    }\n",
              "\n",
              "    .colab-df-convert {\n",
              "      background-color: #E8F0FE;\n",
              "      border: none;\n",
              "      border-radius: 50%;\n",
              "      cursor: pointer;\n",
              "      display: none;\n",
              "      fill: #1967D2;\n",
              "      height: 32px;\n",
              "      padding: 0 0 0 0;\n",
              "      width: 32px;\n",
              "    }\n",
              "\n",
              "    .colab-df-convert:hover {\n",
              "      background-color: #E2EBFA;\n",
              "      box-shadow: 0px 1px 2px rgba(60, 64, 67, 0.3), 0px 1px 3px 1px rgba(60, 64, 67, 0.15);\n",
              "      fill: #174EA6;\n",
              "    }\n",
              "\n",
              "    [theme=dark] .colab-df-convert {\n",
              "      background-color: #3B4455;\n",
              "      fill: #D2E3FC;\n",
              "    }\n",
              "\n",
              "    [theme=dark] .colab-df-convert:hover {\n",
              "      background-color: #434B5C;\n",
              "      box-shadow: 0px 1px 3px 1px rgba(0, 0, 0, 0.15);\n",
              "      filter: drop-shadow(0px 1px 2px rgba(0, 0, 0, 0.3));\n",
              "      fill: #FFFFFF;\n",
              "    }\n",
              "  </style>\n",
              "\n",
              "      <script>\n",
              "        const buttonEl =\n",
              "          document.querySelector('#df-2e444497-b96a-4357-aa39-7017d87aa61e button.colab-df-convert');\n",
              "        buttonEl.style.display =\n",
              "          google.colab.kernel.accessAllowed ? 'block' : 'none';\n",
              "\n",
              "        async function convertToInteractive(key) {\n",
              "          const element = document.querySelector('#df-2e444497-b96a-4357-aa39-7017d87aa61e');\n",
              "          const dataTable =\n",
              "            await google.colab.kernel.invokeFunction('convertToInteractive',\n",
              "                                                     [key], {});\n",
              "          if (!dataTable) return;\n",
              "\n",
              "          const docLinkHtml = 'Like what you see? Visit the ' +\n",
              "            '<a target=\"_blank\" href=https://colab.research.google.com/notebooks/data_table.ipynb>data table notebook</a>'\n",
              "            + ' to learn more about interactive tables.';\n",
              "          element.innerHTML = '';\n",
              "          dataTable['output_type'] = 'display_data';\n",
              "          await google.colab.output.renderOutput(dataTable, element);\n",
              "          const docLink = document.createElement('div');\n",
              "          docLink.innerHTML = docLinkHtml;\n",
              "          element.appendChild(docLink);\n",
              "        }\n",
              "      </script>\n",
              "    </div>\n",
              "  </div>\n",
              "  "
            ],
            "text/plain": [
              "  predicted_category                                                url  \\\n",
              "0              WOMEN  https://www.npr.org/2022/11/29/1139822833/twit...   \n",
              "1           POLITICS  https://bismarcktribune.com/news/local/city-le...   \n",
              "2           POLITICS  https://manchesterinklink.com/applications-ava...   \n",
              "3             IMPACT  https://chippewa.com/community/dunnconnect/uw-...   \n",
              "4              WOMEN  https://www.daily-journal.com/opinion/voice-of...   \n",
              "\n",
              "                                               title state_code  \n",
              "0  Twitter COVID misinformation policy will no lo...         NY  \n",
              "1  City - led initiative takes aim at homelessnes...         ND  \n",
              "2  Applications available for Restaurant Infrastr...         NH  \n",
              "3  UW - Stout research at Devil Punchbowl is focu...         WI  \n",
              "4  Voice of the People : Say No to violence again...         IL  "
            ]
          },
          "execution_count": 74,
          "metadata": {},
          "output_type": "execute_result"
        }
      ],
      "source": [
        "df4.head()"
      ]
    },
    {
      "cell_type": "code",
      "execution_count": 75,
      "metadata": {
        "colab": {
          "base_uri": "https://localhost:8080/"
        },
        "id": "I5Cy3yaKdv7A",
        "outputId": "a715125e-5d7f-4ab5-d5ed-40127120770c"
      },
      "outputs": [
        {
          "data": {
            "text/plain": [
              "predicted_category    2877831\n",
              "url                   2877831\n",
              "title                 2877831\n",
              "state_code            2877831\n",
              "dtype: int64"
            ]
          },
          "execution_count": 75,
          "metadata": {},
          "output_type": "execute_result"
        }
      ],
      "source": [
        "df4.count()"
      ]
    }
  ],
  "metadata": {
    "colab": {
      "provenance": []
    },
    "gpuClass": "standard",
    "kernelspec": {
      "display_name": "Python 3.9.12 ('base')",
      "language": "python",
      "name": "python3"
    },
    "language_info": {
      "name": "python",
      "version": "3.9.12"
    },
    "vscode": {
      "interpreter": {
        "hash": "913fd4c15cfc66aea2deff68f871ee9c023d6384f6b86da8b429f0dd3dd6d5dd"
      }
    }
  },
  "nbformat": 4,
  "nbformat_minor": 0
}
